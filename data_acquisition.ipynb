{
 "cells": [
  {
   "cell_type": "markdown",
   "metadata": {},
   "source": [
    "## Can go to this page: https://www.sec.gov/cgi-bin/srch-edgar\n",
    "\n",
    "### Use a list of CIK numbers for relevant companies and iterate through 10-K and 10-Q docs"
   ]
  },
  {
   "cell_type": "code",
   "execution_count": 1,
   "metadata": {},
   "outputs": [],
   "source": [
    "import pandas as pd\n",
    "import re\n",
    "import requests\n",
    "import unicodedata\n",
    "from bs4 import BeautifulSoup\n",
    "\n",
    "from helpers import *"
   ]
  },
  {
   "cell_type": "markdown",
   "metadata": {},
   "source": [
    "## Extract html code"
   ]
  },
  {
   "cell_type": "code",
   "execution_count": 2,
   "metadata": {},
   "outputs": [],
   "source": [
    "filing = parse_filing(r'https://www.sec.gov/Archives/edgar/data/320193/000032019321000010/0000320193-21-000010.txt', '10-Q')\n",
    "\n"
   ]
  },
  {
   "cell_type": "code",
   "execution_count": 5,
   "metadata": {},
   "outputs": [
    {
     "data": {
      "text/plain": [
       "dict_keys(['document_sequence', 'document_filename', 'document_description', 'document_code'])"
      ]
     },
     "execution_count": 5,
     "metadata": {},
     "output_type": "execute_result"
    }
   ],
   "source": [
    "filing.keys()"
   ]
  },
  {
   "cell_type": "code",
   "execution_count": 7,
   "metadata": {},
   "outputs": [
    {
     "data": {
      "text/plain": [
       "bs4.element.Tag"
      ]
     },
     "execution_count": 7,
     "metadata": {},
     "output_type": "execute_result"
    }
   ],
   "source": [
    "type(filing['document_code'])"
   ]
  },
  {
   "cell_type": "markdown",
   "metadata": {},
   "source": [
    "## Identify table of contents elements"
   ]
  },
  {
   "cell_type": "code",
   "execution_count": 8,
   "metadata": {},
   "outputs": [
    {
     "data": {
      "text/plain": [
       "['Part I',\n",
       " 'Item 1.',\n",
       " 'Financial Statements',\n",
       " '1',\n",
       " 'Item 2.',\n",
       " 'Management’s Discussion and Analysis of Financial Condition and Results of Operations',\n",
       " '22',\n",
       " 'Item 3.',\n",
       " 'Quantitative and Qualitative Disclosures About Market Risk',\n",
       " '29',\n",
       " 'Item 4.',\n",
       " 'Controls and Procedures',\n",
       " '29',\n",
       " 'Part II',\n",
       " 'Item 1.',\n",
       " 'Legal Proceedings',\n",
       " '29',\n",
       " 'Item 1A.',\n",
       " 'Risk Factors',\n",
       " '29',\n",
       " 'Item 2.',\n",
       " 'Unregistered Sales of Equity Securities and Use of Proceeds',\n",
       " '30',\n",
       " 'Item 3.',\n",
       " 'Defaults Upon Senior Securities',\n",
       " '30',\n",
       " 'Item 4.',\n",
       " 'Mine Safety Disclosures',\n",
       " '30',\n",
       " 'Item 5.',\n",
       " 'Other Information',\n",
       " '30',\n",
       " 'Item 6.',\n",
       " 'Exhibits',\n",
       " '31']"
      ]
     },
     "execution_count": 8,
     "metadata": {},
     "output_type": "execute_result"
    }
   ],
   "source": [
    "table_of_contents = get_table_of_contents(filing['document_code'])\n",
    "table_of_contents"
   ]
  },
  {
   "cell_type": "code",
   "execution_count": null,
   "metadata": {},
   "outputs": [],
   "source": []
  },
  {
   "cell_type": "code",
   "execution_count": 10,
   "metadata": {},
   "outputs": [],
   "source": [
    "## test with tsla\n",
    "html = 'https://www.sec.gov/Archives/edgar/data/1318605/000156459021004599/0001564590-21-004599.txt'\n",
    "form = '10-K'"
   ]
  },
  {
   "cell_type": "code",
   "execution_count": 11,
   "metadata": {},
   "outputs": [],
   "source": [
    "tsla_filing = parse_filing(html, form)"
   ]
  },
  {
   "cell_type": "code",
   "execution_count": 13,
   "metadata": {},
   "outputs": [],
   "source": [
    "tsla_toc = get_table_of_contents(tsla_filing['document_code'])"
   ]
  },
  {
   "cell_type": "code",
   "execution_count": 14,
   "metadata": {},
   "outputs": [
    {
     "data": {
      "text/plain": [
       "['PART I.',\n",
       " 'Business',\n",
       " 'Risk Factors',\n",
       " 'Unresolved Staff Comments',\n",
       " 'Properties',\n",
       " 'Legal Proceedings',\n",
       " 'Mine Safety Disclosures',\n",
       " 'PART II.',\n",
       " 'Market for Registrant’s Common Equity, Related Stockholder Matters and Issuer Purchases of Equity Securities',\n",
       " 'Selected Consolidated Financial Data',\n",
       " 'Management’s Discussion and Analysis of Financial Condition and Results of Operations',\n",
       " 'Quantitative and Qualitative Disclosures About Market Risk',\n",
       " 'Financial Statements and Supplementary Data',\n",
       " 'Changes in and Disagreements with Accountants on Accounting and Financial Disclosure',\n",
       " 'Controls and Procedures',\n",
       " 'Other Information',\n",
       " 'PART III.',\n",
       " 'Directors, Executive Officers and Corporate Governance',\n",
       " 'Executive Compensation',\n",
       " 'Security Ownership of Certain Beneficial Owners and Management and Related Stockholder Matters',\n",
       " 'Certain Relationships and Related Transactions, and Director Independence',\n",
       " 'Principal Accountant Fees and Services',\n",
       " 'PART\\xa0IV.',\n",
       " 'Exhibits and Financial Statement Schedules',\n",
       " 'Summary',\n",
       " 'Signatures']"
      ]
     },
     "execution_count": 14,
     "metadata": {},
     "output_type": "execute_result"
    }
   ],
   "source": [
    "tsla_toc"
   ]
  },
  {
   "cell_type": "code",
   "execution_count": null,
   "metadata": {},
   "outputs": [],
   "source": []
  },
  {
   "cell_type": "code",
   "execution_count": null,
   "metadata": {},
   "outputs": [],
   "source": []
  },
  {
   "cell_type": "code",
   "execution_count": null,
   "metadata": {},
   "outputs": [],
   "source": []
  },
  {
   "cell_type": "code",
   "execution_count": null,
   "metadata": {},
   "outputs": [],
   "source": []
  },
  {
   "cell_type": "code",
   "execution_count": null,
   "metadata": {},
   "outputs": [],
   "source": []
  },
  {
   "cell_type": "markdown",
   "metadata": {},
   "source": [
    "## find all tables"
   ]
  },
  {
   "cell_type": "code",
   "execution_count": null,
   "metadata": {},
   "outputs": [],
   "source": [
    "tables = filing['document_code'].find_all('table', {'style':'border-collapse:collapse;display:inline-table;vertical-align:top;width:100.000%'})\n",
    "## now we need to identify the correct Table of Contents table, we'll do this later\n",
    "\n",
    "# trs = tables[3].find_all('tr')\n",
    "# for tag in trs:\n",
    "#     tag = trs.find('a', href=True)\n",
    "#     tag\n",
    "    \n",
    "## break table into rows\n",
    "rows = tables[3].find_all('tr')\n",
    "# for row in rows:\n",
    "#     cells = row.find_all(['td', 'th'])\n",
    "#     for cell in cells:\n",
    "#         print(cell.name, cell.attrs)\n",
    "hrefs = rows[5].find('a', href=True).text\n",
    "hrefs"
   ]
  },
  {
   "cell_type": "code",
   "execution_count": null,
   "metadata": {},
   "outputs": [],
   "source": [
    "hrefs = tables[3].find_all('a', href=True)\n",
    "for href in hrefs:\n",
    "    print(href.text)"
   ]
  },
  {
   "cell_type": "code",
   "execution_count": null,
   "metadata": {},
   "outputs": [],
   "source": [
    "filing['document_code'].find(lambda tag:tag.style=='text-align:center' and 'table of contents' in tag.text.lower())\n",
    "\n",
    "\n",
    "# filing['document_code'].find(lambda tag:tag.name=='b' and 'table of contents' in tag.text.lower())"
   ]
  },
  {
   "cell_type": "code",
   "execution_count": null,
   "metadata": {},
   "outputs": [],
   "source": [
    "filing['document_code'].find(lambda tag:tag.name=='span' and 'table of contents' in tag.text.lower())"
   ]
  },
  {
   "cell_type": "code",
   "execution_count": null,
   "metadata": {},
   "outputs": [],
   "source": [
    "a = filing['document_code'].find_all('div', {\"style\":\"margin-top:6pt;text-align:justify\"})"
   ]
  },
  {
   "cell_type": "code",
   "execution_count": null,
   "metadata": {},
   "outputs": [],
   "source": [
    "a[1]"
   ]
  },
  {
   "cell_type": "code",
   "execution_count": null,
   "metadata": {},
   "outputs": [],
   "source": [
    "filing['document_code']"
   ]
  },
  {
   "cell_type": "code",
   "execution_count": null,
   "metadata": {},
   "outputs": [],
   "source": []
  }
 ],
 "metadata": {
  "kernelspec": {
   "display_name": "Python 3",
   "language": "python",
   "name": "python3"
  },
  "language_info": {
   "codemirror_mode": {
    "name": "ipython",
    "version": 3
   },
   "file_extension": ".py",
   "mimetype": "text/x-python",
   "name": "python",
   "nbconvert_exporter": "python",
   "pygments_lexer": "ipython3",
   "version": "3.8.2"
  }
 },
 "nbformat": 4,
 "nbformat_minor": 4
}
