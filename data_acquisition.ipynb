{
 "cells": [
  {
   "cell_type": "markdown",
   "metadata": {},
   "source": [
    "## Can go to this page: https://www.sec.gov/cgi-bin/srch-edgar\n",
    "\n",
    "### Use a list of CIK numbers for relevant companies and iterate through 10-K and 10-Q docs"
   ]
  },
  {
   "cell_type": "code",
   "execution_count": 1,
   "metadata": {},
   "outputs": [],
   "source": [
    "import pandas as pd\n",
    "import re\n",
    "import requests\n",
    "import unicodedata\n",
    "from bs4 import BeautifulSoup\n",
    "\n",
    "from helpers import *"
   ]
  },
  {
   "cell_type": "markdown",
   "metadata": {},
   "source": [
    "## get df of 11,871 largest companies"
   ]
  },
  {
   "cell_type": "code",
   "execution_count": 2,
   "metadata": {},
   "outputs": [
    {
     "data": {
      "text/html": [
       "<div>\n",
       "<style scoped>\n",
       "    .dataframe tbody tr th:only-of-type {\n",
       "        vertical-align: middle;\n",
       "    }\n",
       "\n",
       "    .dataframe tbody tr th {\n",
       "        vertical-align: top;\n",
       "    }\n",
       "\n",
       "    .dataframe thead th {\n",
       "        text-align: right;\n",
       "    }\n",
       "</style>\n",
       "<table border=\"1\" class=\"dataframe\">\n",
       "  <thead>\n",
       "    <tr style=\"text-align: right;\">\n",
       "      <th></th>\n",
       "      <th>Company</th>\n",
       "      <th>CIK number</th>\n",
       "    </tr>\n",
       "  </thead>\n",
       "  <tbody>\n",
       "    <tr>\n",
       "      <th>0</th>\n",
       "      <td>aapl</td>\n",
       "      <td>320193</td>\n",
       "    </tr>\n",
       "    <tr>\n",
       "      <th>1</th>\n",
       "      <td>msft</td>\n",
       "      <td>789019</td>\n",
       "    </tr>\n",
       "    <tr>\n",
       "      <th>2</th>\n",
       "      <td>amzn</td>\n",
       "      <td>1018724</td>\n",
       "    </tr>\n",
       "    <tr>\n",
       "      <th>3</th>\n",
       "      <td>goog</td>\n",
       "      <td>1652044</td>\n",
       "    </tr>\n",
       "    <tr>\n",
       "      <th>4</th>\n",
       "      <td>fb</td>\n",
       "      <td>1326801</td>\n",
       "    </tr>\n",
       "    <tr>\n",
       "      <th>5</th>\n",
       "      <td>tcehy</td>\n",
       "      <td>1293451</td>\n",
       "    </tr>\n",
       "    <tr>\n",
       "      <th>6</th>\n",
       "      <td>tsla</td>\n",
       "      <td>1318605</td>\n",
       "    </tr>\n",
       "    <tr>\n",
       "      <th>7</th>\n",
       "      <td>baba</td>\n",
       "      <td>1577552</td>\n",
       "    </tr>\n",
       "    <tr>\n",
       "      <th>8</th>\n",
       "      <td>brk-a</td>\n",
       "      <td>1067983</td>\n",
       "    </tr>\n",
       "    <tr>\n",
       "      <th>9</th>\n",
       "      <td>tsm</td>\n",
       "      <td>1046179</td>\n",
       "    </tr>\n",
       "  </tbody>\n",
       "</table>\n",
       "</div>"
      ],
      "text/plain": [
       "  Company  CIK number\n",
       "0    aapl      320193\n",
       "1    msft      789019\n",
       "2    amzn     1018724\n",
       "3    goog     1652044\n",
       "4      fb     1326801\n",
       "5   tcehy     1293451\n",
       "6    tsla     1318605\n",
       "7    baba     1577552\n",
       "8   brk-a     1067983\n",
       "9     tsm     1046179"
      ]
     },
     "execution_count": 2,
     "metadata": {},
     "output_type": "execute_result"
    }
   ],
   "source": [
    "cik_df = pd.read_csv('data/cik_df.csv', names=['Company', 'CIK number'])\n",
    "cik_df.head(10)\n",
    "\n",
    "### need to pad with 0's to 10 numbers"
   ]
  },
  {
   "cell_type": "markdown",
   "metadata": {},
   "source": [
    "## Identify table of contents elements"
   ]
  },
  {
   "cell_type": "code",
   "execution_count": 3,
   "metadata": {},
   "outputs": [],
   "source": [
    "def go_to_filing_doc_location(cik, years, doc_list):\n",
    "    for doc in doc_list:\n",
    "        path = 'https://www.sec.gov/cgi-bin/srch-edgar?text=' + cik + '+' + doc + '&first=' + years[0] + '&last=' + years[1]\n",
    "        print(path)\n",
    "        \n",
    "        \n",
    "        #get response\n",
    "        response = requests.get(path)\n",
    "        \n",
    "        # parse response\n",
    "        soup = BeautifulSoup(response.content, 'lxml')\n",
    "\n",
    "        # each filing can be found in the href marked: '[text]'\n",
    "        # save the links to a list to be returned\n",
    "        txt_links = []\n",
    "        for a in soup.find_all('a', href=True, text='[text]'):\n",
    "            link = 'https://www.sec.gov/'+a['href']\n",
    "            txt_links.append(link)\n",
    "            \n",
    "        return txt_links\n",
    "        \n",
    "\n"
   ]
  },
  {
   "cell_type": "code",
   "execution_count": 4,
   "metadata": {
    "scrolled": true
   },
   "outputs": [],
   "source": [
    "## need a way to update and keep current master dict\n",
    "\n",
    "\n",
    "def get_document_text(cik_list, years, doc_list, save_path, master_dict):\n",
    "        \n",
    "    '''\n",
    "    accesses edgar database and downloads text from 10-K and/or 10-Q filings for specified companies and years\n",
    "    \n",
    "    inputs:\n",
    "    cik_list - list of company cik numbers to extract data\n",
    "    years - years to extract data from. Tuple for now, range of years inclusive\n",
    "    doc_list - list of doc types to extract\n",
    "    save_path - location to save data\n",
    "    \n",
    "    returns:\n",
    "    None\n",
    "    '''    \n",
    "    \n",
    "    ## for each company that we want to extract data for:\n",
    "    for cik in cik_list:\n",
    "        ## txt_links is a list of all the .txt links for 10-Q or 10-K filings for this specific company\n",
    "        txt_links = go_to_filing_doc_location(cik, years, doc_list)\n",
    "        \n",
    "        ## for each linked filing, we ne\n",
    "        for link in txt_links:\n",
    "#             master_dict, doc_id, doc_filename = parse_filing(link, cik, master_dict)\n",
    "            tple = parse_filing(link, cik, master_dict)\n",
    "            \n",
    "            try:\n",
    "                print(tple[2])\n",
    "            except Exception:\n",
    "                print('damn we having problems. sorry man')\n",
    "                continue\n",
    "    \n",
    "            master_dict = split_doc_by_section(master_dict, cik, tple[1], tple[2])\n",
    "            ## extract actual text from each toc element for the filing\n",
    "            master_dict = get_text(master_dict, cik, tple[1], tple[2])\n",
    "\n",
    "\n",
    "            ## extract actual text from each toc element for the filing\n",
    "            master_dict = get_text(master_dict, cik, tple[1], tple[2])\n",
    "        \n",
    "    return master_dict\n"
   ]
  },
  {
   "cell_type": "markdown",
   "metadata": {},
   "source": [
    "## REMOVE TABLES IS TAKING OUT IMPORTANT STUFF"
   ]
  },
  {
   "cell_type": "code",
   "execution_count": 5,
   "metadata": {},
   "outputs": [],
   "source": [
    "def split_doc_by_section(master_dict, cik, filing_type, date):\n",
    "    '''\n",
    "    '''\n",
    "    \n",
    "    parts_to_split = get_table_of_contents(master_dict[cik][filing_type][date]['document_code'])\n",
    "    \n",
    "    \n",
    "    doc_text = master_dict[cik][filing_type][date]['document_code'].find('text').extract()\n",
    "    \n",
    "#     doc_text = remove_tables(doc_text)\n",
    "    \n",
    "    #get different segments of document\n",
    "    text_split_into_parts = []\n",
    "\n",
    "    \n",
    "        \n",
    "    # parts_to_split is a list of table of contents elements\n",
    "    for part in parts_to_split:\n",
    "        #find the table of contents element if it is within a <b> tag\n",
    "        next_part = doc_text.find(lambda tag:tag.name=='b' and part in tag.text.lower())\n",
    "\n",
    "        ## look for font weight=bold\n",
    "        if next_part == None:\n",
    "#             print('no <b> tags found. Checking for font-weight:bold span tags')\n",
    "            next_part = doc_text.find(lambda tag:tag.name=='span' and ('font-weight:bold' in str(tag)) and (part in tag.text.lower()))\n",
    "        \n",
    "        if next_part == None:\n",
    "#             print('no font-weight:bold tags found. Checking for font-weight:700 span tags\\n')\n",
    "            next_part = doc_text.find(lambda tag:tag.name=='span' and ('font-weight:700' in str(tag)) and (part in tag.text.lower()))            \n",
    "            \n",
    "        if next_part == None:\n",
    "            print(\"we can't find a match for \", part)\n",
    "            print('\\n\\n', doc_text, '\\n\\n')\n",
    "         \n",
    " \n",
    "        text_split_into_parts.append(next_part)\n",
    "\n",
    "        \n",
    "    #convert all parts to string\n",
    "    all_parts = [str(part) for part in text_split_into_parts]\n",
    "    #prep the document text for splitting - convert to string\n",
    "    doc_string = str(doc_text)\n",
    "    #defing the regex delimeter pattern\n",
    "    regex_delimiter_pattern = '|'.join(map(re.escape, all_parts))\n",
    "\n",
    "    #split doc on each break\n",
    "    split_doc_string = re.split(regex_delimiter_pattern, doc_string)\n",
    "        \n",
    "    #store parts in master dict\n",
    "    i = 1\n",
    "    for section in parts_to_split:\n",
    "#         no_tables = remove_tables(BeautifulSoup(split_doc_string[i]))\n",
    "#         master_dict[cik][filing_type][date]['table_of_contents'][section] = str(no_tables)\n",
    "        try:\n",
    "    \n",
    "#             section_minus_tables = remove_tables(split_doc_string[i])\n",
    "#             master_dict[cik][filing_type][date]['table_of_contents'][section] = section_minus_tables\n",
    "            master_dict[cik][filing_type][date]['table_of_contents'][section] = split_doc_string[i]\n",
    "            i += 1\n",
    "        except Exception:\n",
    "            print(len(split_doc_string))\n",
    "            print('there was a problem with doc ', date, '\\nSection ', section)\n",
    "\n",
    "\n",
    "            \n",
    "            \n",
    "    return master_dict\n",
    "\n",
    "# updated_master_dict = split_doc_by_section(updated_master_dict)\n",
    "# doctext, parts = split_doc_by_section(updated_master_dict)"
   ]
  },
  {
   "cell_type": "code",
   "execution_count": 6,
   "metadata": {},
   "outputs": [],
   "source": [
    "# def get_text(filing_doc_code_dict):\n",
    "def get_text(master_dict, cik, id, date):\n",
    "    \n",
    "    for key in master_dict[cik][id][date]['table_of_contents'].keys():\n",
    "        section_without_tables = remove_tables(master_dict[cik][id][date]['table_of_contents'][key])\n",
    "        raw_text = bsoup_extract_from_string(section_without_tables)\n",
    "        print('we at the decoding part now, looking good')\n",
    "        decoded_text = decode_text(raw_text)\n",
    "        decoded_text = remove_extra_spaces(decoded_text)\n",
    "        master_dict[cik][id][date]['table_of_contents'][key] = decoded_text\n",
    "        \n",
    "    return master_dict\n",
    "\n",
    "\n",
    "\n",
    "\n",
    "\n",
    "\n",
    "# # def get_text(filing_doc_code_dict):\n",
    "# def get_text(master_dict, cik, id, date):\n",
    "    \n",
    "#     for key in master_dict[cik][id][date]['table_of_contents'].keys():\n",
    "# #         section_without_tables = remove_tables(master_dict, cik, id, date, key)\n",
    "#         raw_text = bsoup_extract_from_string(master_dict[cik][id][date]['table_of_contents'][key])\n",
    "#         print(raw_text)\n",
    "#         decoded_text = decode_text(raw_text)\n",
    "#         decoded_text = remove_extra_spaces(decoded_text)\n",
    "#         master_dict[cik][id][date]['table_of_contents'][key] = decoded_text\n",
    "        \n",
    "#     return master_dict"
   ]
  },
  {
   "cell_type": "code",
   "execution_count": 7,
   "metadata": {},
   "outputs": [],
   "source": [
    "def remove_tables(soup):\n",
    "    if type(soup) == str:\n",
    "        soup = BeautifulSoup(soup)\n",
    "#     print('soup type: ', type(soup), '\\nlength of soup: ', len(str(soup)))\n",
    "    \n",
    "    \n",
    "    \n",
    "    tables = soup.find_all('table')\n",
    "    i = 0\n",
    "    for table in tables:\n",
    "#         print(i)\n",
    "        table.decompose()\n",
    "#         print(table)\n",
    "        i += 1\n",
    "    \n",
    "#     print('length of soup after decompose: ', len(str(soup)))\n",
    "\n",
    "\n",
    "    return soup\n",
    "    \n",
    "    \n"
   ]
  },
  {
   "cell_type": "code",
   "execution_count": 8,
   "metadata": {
    "scrolled": true
   },
   "outputs": [
    {
     "name": "stdout",
     "output_type": "stream",
     "text": [
      "https://www.sec.gov/cgi-bin/srch-edgar?text=0000320193+10-Q&first=2020&last=2021\n",
      "new company\n",
      "from parse_filing. document_id:  10-Q\n",
      "aapl-20210327.htm\n"
     ]
    },
    {
     "ename": "TypeError",
     "evalue": "'NoneType' object is not callable",
     "output_type": "error",
     "traceback": [
      "\u001b[0;31m---------------------------------------------------------------------------\u001b[0m",
      "\u001b[0;31mTypeError\u001b[0m                                 Traceback (most recent call last)",
      "\u001b[0;32m<ipython-input-8-b624ab0663d7>\u001b[0m in \u001b[0;36m<module>\u001b[0;34m\u001b[0m\n\u001b[0;32m----> 1\u001b[0;31m \u001b[0mupdated_master_dict\u001b[0m \u001b[0;34m=\u001b[0m \u001b[0mget_document_text\u001b[0m\u001b[0;34m(\u001b[0m\u001b[0;34m[\u001b[0m\u001b[0;34m'0000320193'\u001b[0m\u001b[0;34m]\u001b[0m\u001b[0;34m,\u001b[0m \u001b[0;34m[\u001b[0m\u001b[0;34m'2020'\u001b[0m\u001b[0;34m,\u001b[0m \u001b[0;34m'2021'\u001b[0m\u001b[0;34m]\u001b[0m\u001b[0;34m,\u001b[0m \u001b[0;34m[\u001b[0m\u001b[0;34m'10-Q'\u001b[0m\u001b[0;34m]\u001b[0m\u001b[0;34m,\u001b[0m \u001b[0;32mNone\u001b[0m\u001b[0;34m,\u001b[0m \u001b[0;34m{\u001b[0m\u001b[0;34m}\u001b[0m\u001b[0;34m)\u001b[0m\u001b[0;34m\u001b[0m\u001b[0;34m\u001b[0m\u001b[0m\n\u001b[0m\u001b[1;32m      2\u001b[0m \u001b[0;31m## get_document_text ->\u001b[0m\u001b[0;34m\u001b[0m\u001b[0;34m\u001b[0m\u001b[0;34m\u001b[0m\u001b[0m\n",
      "\u001b[0;32m<ipython-input-4-b7f379a69d73>\u001b[0m in \u001b[0;36mget_document_text\u001b[0;34m(cik_list, years, doc_list, save_path, master_dict)\u001b[0m\n\u001b[1;32m     35\u001b[0m             \u001b[0mmaster_dict\u001b[0m \u001b[0;34m=\u001b[0m \u001b[0msplit_doc_by_section\u001b[0m\u001b[0;34m(\u001b[0m\u001b[0mmaster_dict\u001b[0m\u001b[0;34m,\u001b[0m \u001b[0mcik\u001b[0m\u001b[0;34m,\u001b[0m \u001b[0mtple\u001b[0m\u001b[0;34m[\u001b[0m\u001b[0;36m1\u001b[0m\u001b[0;34m]\u001b[0m\u001b[0;34m,\u001b[0m \u001b[0mtple\u001b[0m\u001b[0;34m[\u001b[0m\u001b[0;36m2\u001b[0m\u001b[0;34m]\u001b[0m\u001b[0;34m)\u001b[0m\u001b[0;34m\u001b[0m\u001b[0;34m\u001b[0m\u001b[0m\n\u001b[1;32m     36\u001b[0m             \u001b[0;31m## extract actual text from each toc element for the filing\u001b[0m\u001b[0;34m\u001b[0m\u001b[0;34m\u001b[0m\u001b[0;34m\u001b[0m\u001b[0m\n\u001b[0;32m---> 37\u001b[0;31m             \u001b[0mmaster_dict\u001b[0m \u001b[0;34m=\u001b[0m \u001b[0mget_text\u001b[0m\u001b[0;34m(\u001b[0m\u001b[0mmaster_dict\u001b[0m\u001b[0;34m,\u001b[0m \u001b[0mcik\u001b[0m\u001b[0;34m,\u001b[0m \u001b[0mtple\u001b[0m\u001b[0;34m[\u001b[0m\u001b[0;36m1\u001b[0m\u001b[0;34m]\u001b[0m\u001b[0;34m,\u001b[0m \u001b[0mtple\u001b[0m\u001b[0;34m[\u001b[0m\u001b[0;36m2\u001b[0m\u001b[0;34m]\u001b[0m\u001b[0;34m)\u001b[0m\u001b[0;34m\u001b[0m\u001b[0;34m\u001b[0m\u001b[0m\n\u001b[0m\u001b[1;32m     38\u001b[0m \u001b[0;34m\u001b[0m\u001b[0m\n\u001b[1;32m     39\u001b[0m \u001b[0;34m\u001b[0m\u001b[0m\n",
      "\u001b[0;32m<ipython-input-6-85f4e85d8a95>\u001b[0m in \u001b[0;36mget_text\u001b[0;34m(master_dict, cik, id, date)\u001b[0m\n\u001b[1;32m      4\u001b[0m     \u001b[0;32mfor\u001b[0m \u001b[0mkey\u001b[0m \u001b[0;32min\u001b[0m \u001b[0mmaster_dict\u001b[0m\u001b[0;34m[\u001b[0m\u001b[0mcik\u001b[0m\u001b[0;34m]\u001b[0m\u001b[0;34m[\u001b[0m\u001b[0mid\u001b[0m\u001b[0;34m]\u001b[0m\u001b[0;34m[\u001b[0m\u001b[0mdate\u001b[0m\u001b[0;34m]\u001b[0m\u001b[0;34m[\u001b[0m\u001b[0;34m'table_of_contents'\u001b[0m\u001b[0;34m]\u001b[0m\u001b[0;34m.\u001b[0m\u001b[0mkeys\u001b[0m\u001b[0;34m(\u001b[0m\u001b[0;34m)\u001b[0m\u001b[0;34m:\u001b[0m\u001b[0;34m\u001b[0m\u001b[0;34m\u001b[0m\u001b[0m\n\u001b[1;32m      5\u001b[0m         \u001b[0msection_without_tables\u001b[0m \u001b[0;34m=\u001b[0m \u001b[0mremove_tables\u001b[0m\u001b[0;34m(\u001b[0m\u001b[0mmaster_dict\u001b[0m\u001b[0;34m[\u001b[0m\u001b[0mcik\u001b[0m\u001b[0;34m]\u001b[0m\u001b[0;34m[\u001b[0m\u001b[0mid\u001b[0m\u001b[0;34m]\u001b[0m\u001b[0;34m[\u001b[0m\u001b[0mdate\u001b[0m\u001b[0;34m]\u001b[0m\u001b[0;34m[\u001b[0m\u001b[0;34m'table_of_contents'\u001b[0m\u001b[0;34m]\u001b[0m\u001b[0;34m[\u001b[0m\u001b[0mkey\u001b[0m\u001b[0;34m]\u001b[0m\u001b[0;34m)\u001b[0m\u001b[0;34m\u001b[0m\u001b[0;34m\u001b[0m\u001b[0m\n\u001b[0;32m----> 6\u001b[0;31m         \u001b[0mraw_text\u001b[0m \u001b[0;34m=\u001b[0m \u001b[0mbsoup_extract_from_string\u001b[0m\u001b[0;34m(\u001b[0m\u001b[0msection_without_tables\u001b[0m\u001b[0;34m)\u001b[0m\u001b[0;34m\u001b[0m\u001b[0;34m\u001b[0m\u001b[0m\n\u001b[0m\u001b[1;32m      7\u001b[0m         \u001b[0mprint\u001b[0m\u001b[0;34m(\u001b[0m\u001b[0;34m'we at the decoding part now, looking good'\u001b[0m\u001b[0;34m)\u001b[0m\u001b[0;34m\u001b[0m\u001b[0;34m\u001b[0m\u001b[0m\n\u001b[1;32m      8\u001b[0m         \u001b[0mdecoded_text\u001b[0m \u001b[0;34m=\u001b[0m \u001b[0mdecode_text\u001b[0m\u001b[0;34m(\u001b[0m\u001b[0mraw_text\u001b[0m\u001b[0;34m)\u001b[0m\u001b[0;34m\u001b[0m\u001b[0;34m\u001b[0m\u001b[0m\n",
      "\u001b[0;32m~/Desktop/dataScience/SEC_Filings_Parser/helpers.py\u001b[0m in \u001b[0;36mbsoup_extract_from_string\u001b[0;34m(string)\u001b[0m\n\u001b[1;32m     14\u001b[0m \u001b[0;34m\u001b[0m\u001b[0m\n\u001b[1;32m     15\u001b[0m \u001b[0;32mdef\u001b[0m \u001b[0mbsoup_extract_from_string\u001b[0m\u001b[0;34m(\u001b[0m\u001b[0mstring\u001b[0m\u001b[0;34m)\u001b[0m\u001b[0;34m:\u001b[0m\u001b[0;34m\u001b[0m\u001b[0;34m\u001b[0m\u001b[0m\n\u001b[0;32m---> 16\u001b[0;31m     \u001b[0;32mreturn\u001b[0m \u001b[0;34m' '\u001b[0m\u001b[0;34m.\u001b[0m\u001b[0mjoin\u001b[0m\u001b[0;34m(\u001b[0m\u001b[0mBeautifulSoup\u001b[0m\u001b[0;34m(\u001b[0m\u001b[0mstring\u001b[0m\u001b[0;34m,\u001b[0m \u001b[0;34m\"html.parser\"\u001b[0m\u001b[0;34m)\u001b[0m\u001b[0;34m.\u001b[0m\u001b[0mfindAll\u001b[0m\u001b[0;34m(\u001b[0m\u001b[0mtext\u001b[0m\u001b[0;34m=\u001b[0m\u001b[0;32mTrue\u001b[0m\u001b[0;34m)\u001b[0m\u001b[0;34m)\u001b[0m\u001b[0;34m\u001b[0m\u001b[0;34m\u001b[0m\u001b[0m\n\u001b[0m\u001b[1;32m     17\u001b[0m \u001b[0;34m\u001b[0m\u001b[0m\n\u001b[1;32m     18\u001b[0m \u001b[0;32mdef\u001b[0m \u001b[0mdecode_text\u001b[0m\u001b[0;34m(\u001b[0m\u001b[0mstring\u001b[0m\u001b[0;34m)\u001b[0m\u001b[0;34m:\u001b[0m\u001b[0;34m\u001b[0m\u001b[0;34m\u001b[0m\u001b[0m\n",
      "\u001b[0;32m/usr/local/anaconda3/lib/python3.8/site-packages/bs4/__init__.py\u001b[0m in \u001b[0;36m__init__\u001b[0;34m(self, markup, features, builder, parse_only, from_encoding, exclude_encodings, element_classes, **kwargs)\u001b[0m\n\u001b[1;32m    307\u001b[0m \u001b[0;34m\u001b[0m\u001b[0m\n\u001b[1;32m    308\u001b[0m         \u001b[0;32mif\u001b[0m \u001b[0mhasattr\u001b[0m\u001b[0;34m(\u001b[0m\u001b[0mmarkup\u001b[0m\u001b[0;34m,\u001b[0m \u001b[0;34m'read'\u001b[0m\u001b[0;34m)\u001b[0m\u001b[0;34m:\u001b[0m        \u001b[0;31m# It's a file-type object.\u001b[0m\u001b[0;34m\u001b[0m\u001b[0;34m\u001b[0m\u001b[0m\n\u001b[0;32m--> 309\u001b[0;31m             \u001b[0mmarkup\u001b[0m \u001b[0;34m=\u001b[0m \u001b[0mmarkup\u001b[0m\u001b[0;34m.\u001b[0m\u001b[0mread\u001b[0m\u001b[0;34m(\u001b[0m\u001b[0;34m)\u001b[0m\u001b[0;34m\u001b[0m\u001b[0;34m\u001b[0m\u001b[0m\n\u001b[0m\u001b[1;32m    310\u001b[0m         elif len(markup) <= 256 and (\n\u001b[1;32m    311\u001b[0m                 \u001b[0;34m(\u001b[0m\u001b[0misinstance\u001b[0m\u001b[0;34m(\u001b[0m\u001b[0mmarkup\u001b[0m\u001b[0;34m,\u001b[0m \u001b[0mbytes\u001b[0m\u001b[0;34m)\u001b[0m \u001b[0;32mand\u001b[0m \u001b[0;32mnot\u001b[0m \u001b[0;34mb'<'\u001b[0m \u001b[0;32min\u001b[0m \u001b[0mmarkup\u001b[0m\u001b[0;34m)\u001b[0m\u001b[0;34m\u001b[0m\u001b[0;34m\u001b[0m\u001b[0m\n",
      "\u001b[0;31mTypeError\u001b[0m: 'NoneType' object is not callable"
     ]
    }
   ],
   "source": [
    "updated_master_dict = get_document_text(['0000320193'], ['2020', '2021'], ['10-Q'], None, {})\n",
    "## get_document_text -> "
   ]
  },
  {
   "cell_type": "code",
   "execution_count": null,
   "metadata": {},
   "outputs": [],
   "source": [
    "updated_master_dict['0000320193'].keys()"
   ]
  },
  {
   "cell_type": "code",
   "execution_count": null,
   "metadata": {},
   "outputs": [],
   "source": [
    "updated_master_dict['0000320193']['10-Q'].keys()"
   ]
  },
  {
   "cell_type": "code",
   "execution_count": null,
   "metadata": {},
   "outputs": [],
   "source": [
    "updated_master_dict['0000320193']['10-Q']['a10-qq1202012282019.htm'].keys()"
   ]
  },
  {
   "cell_type": "code",
   "execution_count": null,
   "metadata": {},
   "outputs": [],
   "source": [
    "updated_master_dict['0000320193']['10-Q']['a10-qq1202012282019.htm']['table_of_contents'].keys()"
   ]
  },
  {
   "cell_type": "code",
   "execution_count": null,
   "metadata": {},
   "outputs": [],
   "source": [
    "updated_master_dict['0000320193']['10-Q']['a10-qq1202012282019.htm']['table_of_contents']['financial statements']"
   ]
  },
  {
   "cell_type": "code",
   "execution_count": null,
   "metadata": {},
   "outputs": [],
   "source": []
  },
  {
   "cell_type": "code",
   "execution_count": null,
   "metadata": {},
   "outputs": [],
   "source": []
  },
  {
   "cell_type": "code",
   "execution_count": null,
   "metadata": {},
   "outputs": [],
   "source": []
  },
  {
   "cell_type": "code",
   "execution_count": null,
   "metadata": {},
   "outputs": [],
   "source": []
  },
  {
   "cell_type": "code",
   "execution_count": null,
   "metadata": {},
   "outputs": [],
   "source": []
  },
  {
   "cell_type": "code",
   "execution_count": null,
   "metadata": {},
   "outputs": [],
   "source": []
  },
  {
   "cell_type": "code",
   "execution_count": null,
   "metadata": {},
   "outputs": [],
   "source": []
  },
  {
   "cell_type": "code",
   "execution_count": null,
   "metadata": {},
   "outputs": [],
   "source": [
    "import numpy as np\n",
    "import pandas as pd\n",
    "\n",
    "\n",
    "# here is your column that you want to sort\n",
    "your_column_to_sort = ['a121ad', 'b13sd', 'c12ds', 'd115fs']\n",
    "# convert to a dataframe\n",
    "df = pd.DataFrame(a, columns=['dna'])\n",
    "df"
   ]
  },
  {
   "cell_type": "code",
   "execution_count": null,
   "metadata": {},
   "outputs": [],
   "source": [
    "dna_ints = []\n",
    "# use regex to find the integers within the letters\n",
    "for dna in df['dna']:\n",
    "    ## re.search is looking for matches within each string\n",
    "    ## \\d means any numerical value\n",
    "    ## (r'\\d+', dna) means: look for all numbers within the string dna\n",
    "    ## .group() will group all matches together\n",
    "    dna_ints.append(int(re.search(r'\\d+', dna).group()))\n",
    "# add a new column to your dataframe\n",
    "df['dna_ints'] = dna_ints"
   ]
  },
  {
   "cell_type": "code",
   "execution_count": null,
   "metadata": {},
   "outputs": [],
   "source": [
    "# then sort your dataframe by your integer column\n",
    "sorted_df = df.sort_values(by='dna_ints')\n",
    "sorted_df"
   ]
  },
  {
   "cell_type": "code",
   "execution_count": null,
   "metadata": {},
   "outputs": [],
   "source": [
    "a = [1,2,3,4]\n",
    "for i in a:\n",
    "    if i == 3:\n",
    "        continue\n",
    "    print(i)\n",
    "    "
   ]
  },
  {
   "cell_type": "code",
   "execution_count": null,
   "metadata": {},
   "outputs": [],
   "source": []
  }
 ],
 "metadata": {
  "kernelspec": {
   "display_name": "Python 3",
   "language": "python",
   "name": "python3"
  },
  "language_info": {
   "codemirror_mode": {
    "name": "ipython",
    "version": 3
   },
   "file_extension": ".py",
   "mimetype": "text/x-python",
   "name": "python",
   "nbconvert_exporter": "python",
   "pygments_lexer": "ipython3",
   "version": "3.8.2"
  }
 },
 "nbformat": 4,
 "nbformat_minor": 4
}
