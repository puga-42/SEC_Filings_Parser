{
 "cells": [
  {
   "cell_type": "markdown",
   "metadata": {},
   "source": [
    "## Can go to this page: https://www.sec.gov/cgi-bin/srch-edgar\n",
    "\n",
    "### Use a list of CIK numbers for relevant companies and iterate through 10-K and 10-Q docs"
   ]
  },
  {
   "cell_type": "code",
   "execution_count": null,
   "metadata": {},
   "outputs": [],
   "source": [
    "import pandas as pd\n",
    "import re\n",
    "import requests\n",
    "import unicodedata\n",
    "from bs4 import BeautifulSoup\n",
    "\n",
    "from helpers import *"
   ]
  },
  {
   "cell_type": "markdown",
   "metadata": {},
   "source": [
    "## get df of 11,871 largest companies"
   ]
  },
  {
   "cell_type": "code",
   "execution_count": null,
   "metadata": {},
   "outputs": [],
   "source": [
    "cik_df = pd.read_csv('data/cik_df.csv', names=['Company', 'CIK number'])\n",
    "cik_df.head(10)"
   ]
  },
  {
   "cell_type": "markdown",
   "metadata": {},
   "source": [
    "## Extract html code"
   ]
  },
  {
   "cell_type": "code",
   "execution_count": null,
   "metadata": {},
   "outputs": [],
   "source": [
    "filing = parse_filing(r'https://www.sec.gov/Archives/edgar/data/320193/000032019321000010/0000320193-21-000010.txt', '10-Q')\n",
    "# filing = parse_filing(r'https://www.sec.gov/Archives/edgar/data/1318605/000119312511054847/0001193125-11-054847.txt', '10-K')\n"
   ]
  },
  {
   "cell_type": "code",
   "execution_count": null,
   "metadata": {},
   "outputs": [],
   "source": [
    "filing.keys()"
   ]
  },
  {
   "cell_type": "code",
   "execution_count": null,
   "metadata": {},
   "outputs": [],
   "source": [
    "type(filing['document_code'])"
   ]
  },
  {
   "cell_type": "markdown",
   "metadata": {},
   "source": [
    "## Identify table of contents elements"
   ]
  },
  {
   "cell_type": "code",
   "execution_count": null,
   "metadata": {},
   "outputs": [],
   "source": [
    "table_of_contents = get_table_of_contents(filing['document_code'])\n",
    "table_of_contents"
   ]
  },
  {
   "cell_type": "code",
   "execution_count": null,
   "metadata": {},
   "outputs": [],
   "source": []
  },
  {
   "cell_type": "code",
   "execution_count": null,
   "metadata": {},
   "outputs": [],
   "source": [
    "## test with tsla\n",
    "html = 'https://www.sec.gov/Archives/edgar/data/1318605/000156459019026445/0001564590-19-026445.txt'\n",
    "form = '10-Q'"
   ]
  },
  {
   "cell_type": "code",
   "execution_count": null,
   "metadata": {},
   "outputs": [],
   "source": [
    "tsla_filing = parse_filing(html, form)"
   ]
  },
  {
   "cell_type": "code",
   "execution_count": null,
   "metadata": {},
   "outputs": [],
   "source": [
    "tsla_toc = get_table_of_contents(tsla_filing['document_code'])"
   ]
  },
  {
   "cell_type": "code",
   "execution_count": null,
   "metadata": {},
   "outputs": [],
   "source": [
    "tsla_toc"
   ]
  },
  {
   "cell_type": "code",
   "execution_count": null,
   "metadata": {},
   "outputs": [],
   "source": []
  },
  {
   "cell_type": "code",
   "execution_count": null,
   "metadata": {},
   "outputs": [],
   "source": []
  },
  {
   "cell_type": "code",
   "execution_count": null,
   "metadata": {},
   "outputs": [],
   "source": []
  },
  {
   "cell_type": "code",
   "execution_count": null,
   "metadata": {},
   "outputs": [],
   "source": []
  },
  {
   "cell_type": "code",
   "execution_count": null,
   "metadata": {},
   "outputs": [],
   "source": []
  },
  {
   "cell_type": "markdown",
   "metadata": {},
   "source": [
    "## find all tables"
   ]
  },
  {
   "cell_type": "code",
   "execution_count": null,
   "metadata": {},
   "outputs": [],
   "source": [
    "tables = filing['document_code'].find_all('table', {'style':'border-collapse:collapse;display:inline-table;vertical-align:top;width:100.000%'})\n",
    "## now we need to identify the correct Table of Contents table, we'll do this later\n",
    "\n",
    "# trs = tables[3].find_all('tr')\n",
    "# for tag in trs:\n",
    "#     tag = trs.find('a', href=True)\n",
    "#     tag\n",
    "    \n",
    "## break table into rows\n",
    "rows = tables[3].find_all('tr')\n",
    "# for row in rows:\n",
    "#     cells = row.find_all(['td', 'th'])\n",
    "#     for cell in cells:\n",
    "#         print(cell.name, cell.attrs)\n",
    "hrefs = rows[5].find('a', href=True).text\n",
    "hrefs"
   ]
  },
  {
   "cell_type": "code",
   "execution_count": null,
   "metadata": {},
   "outputs": [],
   "source": [
    "hrefs = tables[3].find_all('a', href=True)\n",
    "for href in hrefs:\n",
    "    print(href.text)"
   ]
  },
  {
   "cell_type": "code",
   "execution_count": null,
   "metadata": {},
   "outputs": [],
   "source": [
    "filing['document_code'].find(lambda tag:tag.style=='text-align:center' and 'table of contents' in tag.text.lower())\n",
    "\n",
    "\n",
    "# filing['document_code'].find(lambda tag:tag.name=='b' and 'table of contents' in tag.text.lower())"
   ]
  },
  {
   "cell_type": "code",
   "execution_count": null,
   "metadata": {},
   "outputs": [],
   "source": [
    "filing['document_code'].find(lambda tag:tag.name=='span' and 'table of contents' in tag.text.lower())"
   ]
  },
  {
   "cell_type": "code",
   "execution_count": null,
   "metadata": {},
   "outputs": [],
   "source": [
    "a = filing['document_code'].find_all('div', {\"style\":\"margin-top:6pt;text-align:justify\"})"
   ]
  },
  {
   "cell_type": "code",
   "execution_count": null,
   "metadata": {},
   "outputs": [],
   "source": [
    "a[1]"
   ]
  },
  {
   "cell_type": "code",
   "execution_count": null,
   "metadata": {},
   "outputs": [],
   "source": [
    "filing['document_code']"
   ]
  },
  {
   "cell_type": "code",
   "execution_count": null,
   "metadata": {},
   "outputs": [],
   "source": []
  }
 ],
 "metadata": {
  "kernelspec": {
   "display_name": "Python 3",
   "language": "python",
   "name": "python3"
  },
  "language_info": {
   "codemirror_mode": {
    "name": "ipython",
    "version": 3
   },
   "file_extension": ".py",
   "mimetype": "text/x-python",
   "name": "python",
   "nbconvert_exporter": "python",
   "pygments_lexer": "ipython3",
   "version": "3.8.2"
  }
 },
 "nbformat": 4,
 "nbformat_minor": 4
}
