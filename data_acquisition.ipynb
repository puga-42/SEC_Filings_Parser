{
 "cells": [
  {
   "cell_type": "markdown",
   "metadata": {},
   "source": [
    "## Can go to this page: https://www.sec.gov/cgi-bin/srch-edgar\n",
    "\n",
    "### Use a list of CIK numbers for relevant companies and iterate through 10-K and 10-Q docs"
   ]
  },
  {
   "cell_type": "code",
   "execution_count": 1,
   "metadata": {},
   "outputs": [],
   "source": [
    "import pandas as pd\n",
    "import re\n",
    "import requests\n",
    "import unicodedata\n",
    "from bs4 import BeautifulSoup\n",
    "\n",
    "from helpers import *"
   ]
  },
  {
   "cell_type": "markdown",
   "metadata": {},
   "source": [
    "## get df of 11,871 largest companies"
   ]
  },
  {
   "cell_type": "code",
   "execution_count": 2,
   "metadata": {},
   "outputs": [
    {
     "data": {
      "text/html": [
       "<div>\n",
       "<style scoped>\n",
       "    .dataframe tbody tr th:only-of-type {\n",
       "        vertical-align: middle;\n",
       "    }\n",
       "\n",
       "    .dataframe tbody tr th {\n",
       "        vertical-align: top;\n",
       "    }\n",
       "\n",
       "    .dataframe thead th {\n",
       "        text-align: right;\n",
       "    }\n",
       "</style>\n",
       "<table border=\"1\" class=\"dataframe\">\n",
       "  <thead>\n",
       "    <tr style=\"text-align: right;\">\n",
       "      <th></th>\n",
       "      <th>Company</th>\n",
       "      <th>CIK number</th>\n",
       "    </tr>\n",
       "  </thead>\n",
       "  <tbody>\n",
       "    <tr>\n",
       "      <th>0</th>\n",
       "      <td>aapl</td>\n",
       "      <td>320193</td>\n",
       "    </tr>\n",
       "    <tr>\n",
       "      <th>1</th>\n",
       "      <td>msft</td>\n",
       "      <td>789019</td>\n",
       "    </tr>\n",
       "    <tr>\n",
       "      <th>2</th>\n",
       "      <td>amzn</td>\n",
       "      <td>1018724</td>\n",
       "    </tr>\n",
       "    <tr>\n",
       "      <th>3</th>\n",
       "      <td>goog</td>\n",
       "      <td>1652044</td>\n",
       "    </tr>\n",
       "    <tr>\n",
       "      <th>4</th>\n",
       "      <td>fb</td>\n",
       "      <td>1326801</td>\n",
       "    </tr>\n",
       "    <tr>\n",
       "      <th>5</th>\n",
       "      <td>tcehy</td>\n",
       "      <td>1293451</td>\n",
       "    </tr>\n",
       "    <tr>\n",
       "      <th>6</th>\n",
       "      <td>tsla</td>\n",
       "      <td>1318605</td>\n",
       "    </tr>\n",
       "    <tr>\n",
       "      <th>7</th>\n",
       "      <td>baba</td>\n",
       "      <td>1577552</td>\n",
       "    </tr>\n",
       "    <tr>\n",
       "      <th>8</th>\n",
       "      <td>brk-a</td>\n",
       "      <td>1067983</td>\n",
       "    </tr>\n",
       "    <tr>\n",
       "      <th>9</th>\n",
       "      <td>tsm</td>\n",
       "      <td>1046179</td>\n",
       "    </tr>\n",
       "  </tbody>\n",
       "</table>\n",
       "</div>"
      ],
      "text/plain": [
       "  Company  CIK number\n",
       "0    aapl      320193\n",
       "1    msft      789019\n",
       "2    amzn     1018724\n",
       "3    goog     1652044\n",
       "4      fb     1326801\n",
       "5   tcehy     1293451\n",
       "6    tsla     1318605\n",
       "7    baba     1577552\n",
       "8   brk-a     1067983\n",
       "9     tsm     1046179"
      ]
     },
     "execution_count": 2,
     "metadata": {},
     "output_type": "execute_result"
    }
   ],
   "source": [
    "cik_df = pd.read_csv('data/cik_df.csv', names=['Company', 'CIK number'])\n",
    "cik_df.head(10)\n",
    "\n",
    "### need to pad with 0's to 10 numbers"
   ]
  },
  {
   "cell_type": "markdown",
   "metadata": {},
   "source": [
    "## Identify table of contents elements"
   ]
  },
  {
   "cell_type": "code",
   "execution_count": 3,
   "metadata": {},
   "outputs": [],
   "source": [
    "def go_to_filing_doc_location(cik, years, doc_list):\n",
    "    for doc in doc_list:\n",
    "        path = 'https://www.sec.gov/cgi-bin/srch-edgar?text=' + cik + '+' + doc + '&first=' + years[0] + '&last=' + years[1]\n",
    "        print(path)\n",
    "        \n",
    "        \n",
    "        #get response\n",
    "        response = requests.get(path)\n",
    "        \n",
    "        # parse response\n",
    "        soup = BeautifulSoup(response.content, 'lxml')\n",
    "\n",
    "        # each filing can be found in the href marked: '[text]'\n",
    "        # save the links to a list to be returned\n",
    "        txt_links = []\n",
    "        for a in soup.find_all('a', href=True, text='[text]'):\n",
    "            link = 'https://www.sec.gov/'+a['href']\n",
    "            txt_links.append(link)\n",
    "            \n",
    "        return txt_links\n",
    "        \n",
    "\n"
   ]
  },
  {
   "cell_type": "code",
   "execution_count": 4,
   "metadata": {
    "scrolled": true
   },
   "outputs": [],
   "source": [
    "## need a way to update and keep current master dict\n",
    "\n",
    "\n",
    "def get_document_text(cik_list, years, doc_list, save_path, master_dict):\n",
    "        \n",
    "    '''\n",
    "    accesses edgar database and downloads text from 10-K and/or 10-Q filings for specified companies and years\n",
    "    \n",
    "    inputs:\n",
    "    cik_list - list of company cik numbers to extract data\n",
    "    years - years to extract data from. Tuple for now, range of years inclusive\n",
    "    doc_list - list of doc types to extract\n",
    "    save_path - location to save data\n",
    "    \n",
    "    returns:\n",
    "    None\n",
    "    '''    \n",
    "    \n",
    "    ## for each company that we want to extract data for:\n",
    "    for cik in cik_list:\n",
    "        ## txt_links is a list of all the .txt links for 10-Q or 10-K filings for this specific company\n",
    "        txt_links = go_to_filing_doc_location(cik, years, doc_list)\n",
    "        \n",
    "        ## for each linked filing, we ne\n",
    "        for link in txt_links:\n",
    "#             master_dict, doc_id, doc_filename = parse_filing(link, cik, master_dict)\n",
    "            tple = parse_filing(link, cik, master_dict)\n",
    "            master_dict = split_doc_by_section(master_dict, cik, tple[1], tple[2])\n",
    "\n",
    "            ## extract actual text from each toc element for the filing\n",
    "            master_dict = get_text(master_dict, cik, tple[1], tple[2])\n",
    "\n",
    "\n",
    "#      now we should have a dictionary with:      cik -> \n",
    "#                                                 doc_type -> \n",
    "#                                                 year/quarter -> \n",
    "#                                                 toc -> \n",
    "#                                                 toc_element -> \n",
    "#                                                 raw_html\n",
    "    \n",
    "    \n",
    "    return master_dict\n"
   ]
  },
  {
   "cell_type": "code",
   "execution_count": 5,
   "metadata": {},
   "outputs": [],
   "source": [
    "# split_doc_by_section needs to take in the path to table of contents\n",
    "# def split_doc_by_section(master_dict, cik, filing_type, date):\n",
    "\n",
    "\n",
    "def split_doc_by_section(master_dict, cik, filing_type, date):\n",
    "    '''\n",
    "    '''\n",
    "    \n",
    "        \n",
    "    ## manually inputting location of document_code for now for the sake of testing\n",
    "\n",
    "    parts_to_split = get_table_of_contents(master_dict[cik][filing_type][date]['document_code'])\n",
    "    \n",
    "    doc_text = master_dict[cik][filing_type][date]['document_code'].find('text').extract()\n",
    "    \n",
    "    #get different segments of document\n",
    "    text_split_into_parts = []\n",
    "\n",
    "    \n",
    "    \n",
    "    ## add new dict for each toc element\n",
    "#     for part in parts_to_split:\n",
    "#         master_dict[cik][filing_type][date]['table_of_contents'][part] = parts_to_split\n",
    "        \n",
    "    \n",
    "    # parts_to_split is a list of table of contents elements\n",
    "    for part in parts_to_split:\n",
    "        #find the table of contents element if it is within a <b> tag\n",
    "        next_part = doc_text.find(lambda tag:tag.name=='b' and part in tag.text.lower())\n",
    "\n",
    "        ## look for font weight=bold\n",
    "        if next_part == None:\n",
    "            print('no <b> tags found. Checking for font-weight:bold span tags')\n",
    "            next_part = doc_text.find(lambda tag:tag.name=='span' and ('font-weight:bold' in str(tag)) and (part in tag.text.lower()))\n",
    "        \n",
    "        if next_part == None:\n",
    "            print('no font-weight:bold tags found. Checking for font-weight:700 span tags\\n')\n",
    "            next_part = doc_text.find(lambda tag:tag.name=='span' and ('font-weight:700' in str(tag)) and (part in tag.text.lower()))            \n",
    "            \n",
    "                    \n",
    " \n",
    "        text_split_into_parts.append(next_part)\n",
    "\n",
    "\n",
    "\n",
    "        \n",
    "    #convert all parts to string\n",
    "    all_parts = [str(part) for part in text_split_into_parts]\n",
    "    #prep the document text for splitting - convert to string\n",
    "    doc_string = str(doc_text)\n",
    "    #defing the regex delimeter pattern\n",
    "    regex_delimiter_pattern = '|'.join(map(re.escape, all_parts))\n",
    "\n",
    "    #split doc on each break\n",
    "    split_doc_string = re.split(regex_delimiter_pattern, doc_string)\n",
    "        \n",
    "    #store parts in master dict\n",
    "    i = 1\n",
    "    for section in parts_to_split:\n",
    "        master_dict[cik][filing_type][date]['table_of_contents'][section] = split_doc_string[i]\n",
    "        i += 1\n",
    "\n",
    "\n",
    "    return master_dict\n",
    "\n",
    "# updated_master_dict = split_doc_by_section(updated_master_dict)\n",
    "# doctext, parts = split_doc_by_section(updated_master_dict)"
   ]
  },
  {
   "cell_type": "code",
   "execution_count": 6,
   "metadata": {},
   "outputs": [],
   "source": [
    "# def get_text(filing_doc_code_dict):\n",
    "def get_text(master_dict, cik, id, date):\n",
    "    tenk_text_dict = {}\n",
    "    \n",
    "    for key in master_dict[cik][id][date]['table_of_contents'].keys():\n",
    "        raw_text = bsoup_extract_from_string(master_dict[cik][id][date]['table_of_contents'][key])\n",
    "        decoded_text = decode_text(raw_text)\n",
    "        decoded_text = remove_extra_spaces(decoded_text)\n",
    "        master_dict[cik][id][date]['table_of_contents'][key] = decoded_text\n",
    "        \n",
    "    return master_dict"
   ]
  },
  {
   "cell_type": "code",
   "execution_count": 7,
   "metadata": {},
   "outputs": [
    {
     "name": "stdout",
     "output_type": "stream",
     "text": [
      "https://www.sec.gov/cgi-bin/srch-edgar?text=0000320193+10-Q&first=2020&last=2021\n",
      "new company\n",
      "from parse_filing. document_id:  10-Q\n",
      "doc_id:  10-Q \n",
      "doc_filename:  aapl-20201226.htm\n",
      "cik:  0000320193 \n",
      "filing_type:  10-Q \n",
      "date:  aapl-20201226.htm\n",
      "no <b> tags found. Checking for font-weight:bold span tags\n",
      "no font-weight:bold tags found. Checking for font-weight:700 span tags\n",
      "\n",
      "no <b> tags found. Checking for font-weight:bold span tags\n",
      "no font-weight:bold tags found. Checking for font-weight:700 span tags\n",
      "\n",
      "no <b> tags found. Checking for font-weight:bold span tags\n",
      "no font-weight:bold tags found. Checking for font-weight:700 span tags\n",
      "\n",
      "no <b> tags found. Checking for font-weight:bold span tags\n",
      "no font-weight:bold tags found. Checking for font-weight:700 span tags\n",
      "\n",
      "no <b> tags found. Checking for font-weight:bold span tags\n",
      "no font-weight:bold tags found. Checking for font-weight:700 span tags\n",
      "\n",
      "no <b> tags found. Checking for font-weight:bold span tags\n",
      "no font-weight:bold tags found. Checking for font-weight:700 span tags\n",
      "\n",
      "no <b> tags found. Checking for font-weight:bold span tags\n",
      "no font-weight:bold tags found. Checking for font-weight:700 span tags\n",
      "\n",
      "no <b> tags found. Checking for font-weight:bold span tags\n",
      "no font-weight:bold tags found. Checking for font-weight:700 span tags\n",
      "\n",
      "no <b> tags found. Checking for font-weight:bold span tags\n",
      "no font-weight:bold tags found. Checking for font-weight:700 span tags\n",
      "\n",
      "no <b> tags found. Checking for font-weight:bold span tags\n",
      "no font-weight:bold tags found. Checking for font-weight:700 span tags\n",
      "\n",
      "no <b> tags found. Checking for font-weight:bold span tags\n",
      "no font-weight:bold tags found. Checking for font-weight:700 span tags\n",
      "\n",
      "len split_doc_string:  12\n",
      "from parse_filing. document_id:  10-Q\n",
      "doc_id:  10-Q \n",
      "doc_filename:  aapl-20200627.htm\n",
      "cik:  0000320193 \n",
      "filing_type:  10-Q \n",
      "date:  aapl-20200627.htm\n",
      "no <b> tags found. Checking for font-weight:bold span tags\n",
      "no font-weight:bold tags found. Checking for font-weight:700 span tags\n",
      "\n",
      "no <b> tags found. Checking for font-weight:bold span tags\n",
      "no font-weight:bold tags found. Checking for font-weight:700 span tags\n",
      "\n",
      "no <b> tags found. Checking for font-weight:bold span tags\n",
      "no font-weight:bold tags found. Checking for font-weight:700 span tags\n",
      "\n",
      "no <b> tags found. Checking for font-weight:bold span tags\n",
      "no font-weight:bold tags found. Checking for font-weight:700 span tags\n",
      "\n",
      "no <b> tags found. Checking for font-weight:bold span tags\n",
      "no font-weight:bold tags found. Checking for font-weight:700 span tags\n",
      "\n",
      "no <b> tags found. Checking for font-weight:bold span tags\n",
      "no font-weight:bold tags found. Checking for font-weight:700 span tags\n",
      "\n",
      "no <b> tags found. Checking for font-weight:bold span tags\n",
      "no font-weight:bold tags found. Checking for font-weight:700 span tags\n",
      "\n",
      "no <b> tags found. Checking for font-weight:bold span tags\n",
      "no font-weight:bold tags found. Checking for font-weight:700 span tags\n",
      "\n",
      "no <b> tags found. Checking for font-weight:bold span tags\n",
      "no font-weight:bold tags found. Checking for font-weight:700 span tags\n",
      "\n",
      "no <b> tags found. Checking for font-weight:bold span tags\n",
      "no font-weight:bold tags found. Checking for font-weight:700 span tags\n",
      "\n",
      "no <b> tags found. Checking for font-weight:bold span tags\n",
      "no font-weight:bold tags found. Checking for font-weight:700 span tags\n",
      "\n",
      "len split_doc_string:  12\n",
      "from parse_filing. document_id:  10-Q\n",
      "doc_id:  10-Q \n",
      "doc_filename:  a10-qq220203282020.htm\n",
      "cik:  0000320193 \n",
      "filing_type:  10-Q \n",
      "date:  a10-qq220203282020.htm\n",
      "no <b> tags found. Checking for font-weight:bold span tags\n",
      "no <b> tags found. Checking for font-weight:bold span tags\n",
      "no <b> tags found. Checking for font-weight:bold span tags\n",
      "no <b> tags found. Checking for font-weight:bold span tags\n",
      "no <b> tags found. Checking for font-weight:bold span tags\n",
      "no <b> tags found. Checking for font-weight:bold span tags\n",
      "no <b> tags found. Checking for font-weight:bold span tags\n",
      "no <b> tags found. Checking for font-weight:bold span tags\n",
      "no <b> tags found. Checking for font-weight:bold span tags\n",
      "no <b> tags found. Checking for font-weight:bold span tags\n",
      "no <b> tags found. Checking for font-weight:bold span tags\n",
      "len split_doc_string:  12\n",
      "from parse_filing. document_id:  10-Q\n",
      "doc_id:  10-Q \n",
      "doc_filename:  a10-qq1202012282019.htm\n",
      "cik:  0000320193 \n",
      "filing_type:  10-Q \n",
      "date:  a10-qq1202012282019.htm\n",
      "no <b> tags found. Checking for font-weight:bold span tags\n",
      "no <b> tags found. Checking for font-weight:bold span tags\n",
      "no <b> tags found. Checking for font-weight:bold span tags\n",
      "no <b> tags found. Checking for font-weight:bold span tags\n",
      "no <b> tags found. Checking for font-weight:bold span tags\n",
      "no <b> tags found. Checking for font-weight:bold span tags\n",
      "no <b> tags found. Checking for font-weight:bold span tags\n",
      "no <b> tags found. Checking for font-weight:bold span tags\n",
      "no <b> tags found. Checking for font-weight:bold span tags\n",
      "no <b> tags found. Checking for font-weight:bold span tags\n",
      "no <b> tags found. Checking for font-weight:bold span tags\n",
      "len split_doc_string:  12\n"
     ]
    }
   ],
   "source": [
    "updated_master_dict = get_document_text(['0000320193'], ['2020', '2021'], ['10-Q'], None, {})\n",
    "## get_document_text -> "
   ]
  },
  {
   "cell_type": "code",
   "execution_count": 8,
   "metadata": {},
   "outputs": [
    {
     "data": {
      "text/plain": [
       "dict_keys(['0000320193'])"
      ]
     },
     "execution_count": 8,
     "metadata": {},
     "output_type": "execute_result"
    }
   ],
   "source": [
    "updated_master_dict.keys()"
   ]
  },
  {
   "cell_type": "code",
   "execution_count": 9,
   "metadata": {},
   "outputs": [
    {
     "data": {
      "text/plain": [
       "dict_keys(['10-K', '10-Q'])"
      ]
     },
     "execution_count": 9,
     "metadata": {},
     "output_type": "execute_result"
    }
   ],
   "source": [
    "updated_master_dict['0000320193'].keys()"
   ]
  },
  {
   "cell_type": "code",
   "execution_count": 10,
   "metadata": {},
   "outputs": [
    {
     "data": {
      "text/plain": [
       "dict_keys(['aapl-20201226.htm', 'aapl-20200627.htm', 'a10-qq220203282020.htm', 'a10-qq1202012282019.htm'])"
      ]
     },
     "execution_count": 10,
     "metadata": {},
     "output_type": "execute_result"
    }
   ],
   "source": [
    "updated_master_dict['0000320193']['10-Q'].keys()"
   ]
  },
  {
   "cell_type": "code",
   "execution_count": 11,
   "metadata": {},
   "outputs": [
    {
     "data": {
      "text/plain": [
       "dict_keys(['header', 'document_code', 'table_of_contents'])"
      ]
     },
     "execution_count": 11,
     "metadata": {},
     "output_type": "execute_result"
    }
   ],
   "source": [
    "updated_master_dict['0000320193']['10-Q']['a10-qq220203282020.htm'].keys()"
   ]
  },
  {
   "cell_type": "code",
   "execution_count": 12,
   "metadata": {},
   "outputs": [
    {
     "data": {
      "text/plain": [
       "dict_keys(['financial statements', 'management’s discussion and analysis of financial condition and results of operations', 'quantitative and qualitative disclosures about market risk', 'controls and procedures', 'legal proceedings', 'risk factors', 'unregistered sales of equity securities and use of proceeds', 'defaults upon senior securities', 'mine safety disclosures', 'other information', 'exhibits'])"
      ]
     },
     "execution_count": 12,
     "metadata": {},
     "output_type": "execute_result"
    }
   ],
   "source": [
    "updated_master_dict['0000320193']['10-Q']['a10-qq220203282020.htm']['table_of_contents'].keys()"
   ]
  },
  {
   "cell_type": "code",
   "execution_count": 13,
   "metadata": {},
   "outputs": [
    {
     "data": {
      "text/plain": [
       "'Apple Inc. CONDENSED CONSOLIDATED STATEMENTS OF OPERATIONS (Unaudited) (In millions, except number of shares which are reflected in thousands and per share amounts) Three Months Ended Six Months Ended March 28, 2020 March 30, 2019 March 28, 2020 March 30, 2019 Net sales: Products $ 44,965 $ 46,565 $ 124,069 $ 120,000 Services 13,348 11,450 26,063 22,325 Total net sales 58,313 58,015 150,132 142,325 Cost of sales: Products 31,321 32,047 83,396 80,285 Services 4,622 4,147 9,149 8,188 Total cost of sales 35,943 36,194 92,545 88,473 Gross margin 22,370 21,821 57,587 53,852 Operating expenses: Research and development 4,565 3,948 9,016 7,850 Selling, general and administrative 4,952 4,458 10,149 9,241 Total operating expenses 9,517 8,406 19,165 17,091 Operating income 12,853 13,415 38,422 36,761 Other income/(expense), net 282 378 631 938 Income before provision for income taxes 13,135 13,793 39,053 37,699 Provision for income taxes 1,886 2,232 5,568 6,173 Net income $ 11,249 $ 11,561 $ 33,485 $ 31,526 Earnings per share: Basic $ 2.58 $ 2.47 $ 7.63 $ 6.70 Diluted $ 2.55 $ 2.46 $ 7.56 $ 6.66 Shares used in computing earnings per share: Basic 4,360,101 4,674,071 4,387,570 4,704,945 Diluted 4,404,691 4,700,646 4,429,648 4,736,949 See accompanying Notes to Condensed Consolidated Financial Statements. Apple Inc. | Q2 2020 Form 10-Q | 1 Apple Inc. CONDENSED CONSOLIDATED STATEMENTS OF COMPREHENSIVE INCOME (Unaudited) (In millions) Three Months Ended Six Months Ended March 28, 2020 March 30, 2019 March 28, 2020 March 30, 2019 Net income $ 11,249 $ 11,561 $ 33,485 $ 31,526 Other comprehensive income/(loss): Change in foreign currency translation, net of tax ( 566 ) 174 ( 364 ) 96 Change in unrealized gains/losses on derivative instruments, net of tax: Change in fair value of derivatives ( 143 ) ( 50 ) ( 32 ) ( 384 ) Adjustment for net (gains)/losses realized and included in net income 634 ( 105 ) 236 ( 63 ) Total change in unrealized gains/losses on derivative instruments 491 ( 155 ) 204 ( 447 ) Change in unrealized gains/losses on marketable debt securities, net of tax: Change in fair value of marketable debt securities ( 2,325 ) 2,042 ( 2,200 ) 2,152 Adjustment for net (gains)/losses realized and included in net income 29 28 19 65 Total change in unrealized gains/losses on marketable debt securities ( 2,296 ) 2,070 ( 2,181 ) 2,217 Total other comprehensive income/(loss) ( 2,371 ) 2,089 ( 2,341 ) 1,866 Total comprehensive income $ 8,878 $ 13,650 $ 31,144 $ 33,392 See accompanying Notes to Condensed Consolidated Financial Statements. Apple Inc. | Q2 2020 Form 10-Q | 2 Apple Inc. CONDENSED CONSOLIDATED BALANCE SHEETS (Unaudited) (In millions, except number of shares which are reflected in thousands and par value) March 28, 2020 September 28, 2019 ASSETS: Current assets: Cash and cash equivalents $ 40,174 $ 48,844 Marketable securities 53,877 51,713 Accounts receivable, net 15,722 22,926 Inventories 3,334 4,106 Vendor non-trade receivables 14,955 22,878 Other current assets 15,691 12,352 Total current assets 143,753 162,819 Non-current assets: Marketable securities 98,793 105,341 Property, plant and equipment, net 35,889 37,378 Other non-current assets 41,965 32,978 Total non-current assets 176,647 175,697 Total assets $ 320,400 $ 338,516 LIABILITIES AND SHAREHOLDERS’ EQUITY: Current liabilities: Accounts payable $ 32,421 $ 46,236 Other current liabilities 37,324 37,720 Deferred revenue 5,928 5,522 Commercial paper and repurchase agreement 10,029 5,980 Term debt 10,392 10,260 Total current liabilities 96,094 105,718 Non-current liabilities: Term debt 89,086 91,807 Other non-current liabilities 56,795 50,503 Total non-current liabilities 145,881 142,310 Total liabilities 241,975 248,028 Commitments and contingencies Shareholders’ equity: Common stock and additional paid-in capital, $0.00001 par value: 12,600,000 shares authorized; 4,323,987 and 4,443,236 shares issued and outstanding, respectively 48,032 45,174 Retained earnings 33,182 45,898 Accumulated other comprehensive income/(loss) ( 2,789 ) ( 584 ) Total shareholders’ equity 78,425 90,488 Total liabilities and shareholders’ equity $ 320,400 $ 338,516 See accompanying Notes to Condensed Consolidated Financial Statements. Apple Inc. | Q2 2020 Form 10-Q | 3 Apple Inc. CONDENSED CONSOLIDATED STATEMENTS OF SHAREHOLDERS’ EQUITY (Unaudited) (In millions, except per share amounts) Three Months Ended Six Months Ended March 28, 2020 March 30, 2019 March 28, 2020 March 30, 2019 Total shareholders’ equity, beginning balances $ 89,531 $ 117,892 $ 90,488 $ 107,147 Common stock and additional paid-in capital: Beginning balances 45,972 40,970 45,174 40,201 Common stock issued 428 390 430 390 Common stock withheld related to net share settlement of equity awards ( 101 ) ( 105 ) ( 1,052 ) ( 927 ) Share-based compensation 1,733 1,546 3,480 3,137 Ending balances 48,032 42,801 48,032 42,801 Retained earnings: Beginning balances 43,977 80,510 45,898 70,400 Net income 11,249 11,561 33,485 31,526 Dividends and dividend equivalents declared ( 3,432 ) ( 3,499 ) ( 6,917 ) ( 7,025 ) Common stock withheld related to net share settlement of equity awards ( 96 ) ( 14 ) ( 632 ) ( 608 ) Common stock repurchased ( 18,516 ) ( 24,000 ) ( 38,516 ) ( 32,236 ) Cumulative effects of changes in accounting principles — — ( 136 ) 2,501 Ending balances 33,182 64,558 33,182 64,558 Accumulated other comprehensive income/(loss): Beginning balances ( 418 ) ( 3,588 ) ( 584 ) ( 3,454 ) Other comprehensive income/(loss) ( 2,371 ) 2,089 ( 2,341 ) 1,866 Cumulative effects of changes in accounting principles — — 136 89 Ending balances ( 2,789 ) ( 1,499 ) ( 2,789 ) ( 1,499 ) Total shareholders’ equity, ending balances $ 78,425 $ 105,860 $ 78,425 $ 105,860 Dividends and dividend equivalents declared per share or RSU $ 0.77 $ 0.73 $ 1.54 $ 1.46 See accompanying Notes to Condensed Consolidated Financial Statements. Apple Inc. | Q2 2020 Form 10-Q | 4 Apple Inc. CONDENSED CONSOLIDATED STATEMENTS OF CASH FLOWS (Unaudited) (In millions) Six Months Ended March 28, 2020 March 30, 2019 Cash, cash equivalents and restricted cash, beginning balances $ 50,224 $ 25,913 Operating activities: Net income 33,485 31,526 Adjustments to reconcile net income to cash generated by operating activities: Depreciation and amortization 5,602 6,435 Share-based compensation expense 3,407 3,073 Deferred income tax benefit ( 651 ) ( 124 ) Other ( 259 ) ( 215 ) Changes in operating assets and liabilities: Accounts receivable, net 7,284 8,094 Inventories 699 ( 1,006 ) Vendor non-trade receivables 7,923 14,616 Other current and non-current assets ( 8,866 ) ( 717 ) Accounts payable ( 13,520 ) ( 20,024 ) Deferred revenue 1,223 ( 540 ) Other current and non-current liabilities 7,500 ( 3,273 ) Cash generated by operating activities 43,827 37,845 Investing activities: Purchases of marketable securities ( 66,489 ) ( 13,854 ) Proceeds from maturities of marketable securities 39,738 16,880 Proceeds from sales of marketable securities 27,762 22,635 Payments for acquisition of property, plant and equipment ( 3,960 ) ( 5,718 ) Payments made in connection with business acquisitions, net ( 1,134 ) ( 291 ) Purchases of non-marketable securities ( 146 ) ( 490 ) Other ( 426 ) 30 Cash generated by/(used in) investing activities ( 4,655 ) 19,192 Financing activities: Proceeds from issuance of common stock 430 390 Payments for taxes related to net share settlement of equity awards ( 1,566 ) ( 1,427 ) Payments for dividends and dividend equivalents ( 6,914 ) ( 7,011 ) Repurchases of common stock ( 39,280 ) ( 32,498 ) Proceeds from issuance of term debt, net 2,210 — Repayments of term debt ( 5,250 ) ( 2,500 ) Proceeds from/(Repayments of) commercial paper, net 1,518 ( 36 ) Proceeds from repurchase agreement 2,556 — Other ( 51 ) ( 51 ) Cash used in financing activities ( 46,347 ) ( 43,133 ) Increase/(Decrease) in cash, cash equivalents and restricted cash ( 7,175 ) 13,904 Cash, cash equivalents and restricted cash, ending balances $ 43,049 $ 39,817 Supplemental cash flow disclosure: Cash paid for income taxes, net $ 7,505 $ 9,497 Cash paid for interest $ 1,689 $ 1,762 See accompanying Notes to Condensed Consolidated Financial Statements. Apple Inc. | Q2 2020 Form 10-Q | 5 Apple Inc. Notes to Condensed Consolidated Financial Statements (Unaudited) Note 1 – Summary of Significant Accounting Policies Basis of Presentation and Preparation The condensed consolidated financial statements include the accounts of Apple Inc. and its wholly owned subsidiaries (collectively “Apple” or the “Company”). Intercompany accounts and transactions have been eliminated. In the opinion of the Company’s management, the condensed consolidated financial statements reflect all adjustments, which are normal and recurring in nature, necessary for fair financial statement presentation. The preparation of these condensed consolidated financial statements and accompanying notes in conformity with U.S. generally accepted accounting principles requires management to make estimates and assumptions that affect the amounts reported. Actual results could differ materially from those estimates. Certain prior period amounts in the condensed consolidated financial statements and accompanying notes have been reclassified to conform to the current period’s presentation. These condensed consolidated financial statements and accompanying notes should be read in conjunction with the Company’s annual consolidated financial statements and accompanying notes included in its Annual Report on Form 10-K for the fiscal year ended September 28, 2019 (the “ 2019 Form 10-K”). The Company’s fiscal year is the 52- or 53-week period that ends on the last Saturday of September. A 14th week is included in the first fiscal quarter every five or six years to realign the Company’s fiscal quarters with calendar quarters. The Company’s fiscal years 2020 and 2019 span 52 weeks each. Unless otherwise stated, references to particular years, quarters, months and periods refer to the Company’s fiscal years ended in September and the associated quarters, months and periods of those fiscal years. Recently Adopted Accounting Pronouncements Leases At the beginning of the first quarter of 2020, the Company adopted the Financial Accounting Standards Board’s (the “FASB”) Accounting Standards Update (“ASU”) No. 2016-02, Leases (Topic 842) (“ASU 2016-02”), and additional ASUs issued to clarify and update the guidance in ASU 2016-02 (collectively, the “new leases standard”), which modifies lease accounting for lessees to increase transparency and comparability by recording lease assets and liabilities for operating leases and disclosing key information about leasing arrangements. The Company adopted the new leases standard utilizing the modified retrospective transition method, under which amounts in prior periods presented were not restated. For contracts existing at the time of adoption, the Company elected to not reassess (i) whether any are or contain leases, (ii) lease classification, and (iii) initial direct costs. Upon adoption, the Company recorded $ 7.5 billion of right-of-use (“ROU”) assets and $ 8.1 billion of lease liabilities on its Condensed Consolidated Balance Sheet. Hedging At the beginning of the first quarter of 2020, the Company adopted FASB ASU No. 2017-12, Derivatives and Hedging (Topic 815): Targeted Improvements to Accounting for Hedging Activities (“ASU 2017-12”). ASU 2017-12 expands component and fair value hedging, specifies the presentation of the effects of hedging instruments, eliminates the separate measurement and presentation of hedge ineffectiveness, and updates disclosure requirements related to hedging. The Company adopted ASU 2017-12 utilizing the modified retrospective transition method. Upon adoption, the Company recorded a $ 136 million increase in accumulated other comprehensive income/(loss) (“AOCI”) and a corresponding decrease in retained earnings in the Condensed Consolidated Statement of Shareholders’ Equity. Apple Inc. | Q2 2020 Form 10-Q | 6 Earnings Per Share The following table shows the computation of basic and diluted earnings per share for the three- and six-month periods ended March 28, 2020 and March 30, 2019 (net income in millions and shares in thousands): Three Months Ended Six Months Ended March 28, 2020 March 30, 2019 March 28, 2020 March 30, 2019 Numerator: Net income $ 11,249 $ 11,561 $ 33,485 $ 31,526 Denominator: Weighted-average basic shares outstanding 4,360,101 4,674,071 4,387,570 4,704,945 Effect of dilutive securities 44,590 26,575 42,078 32,004 Weighted-average diluted shares 4,404,691 4,700,646 4,429,648 4,736,949 Basic earnings per share $ 2.58 $ 2.47 $ 7.63 $ 6.70 Diluted earnings per share $ 2.55 $ 2.46 $ 7.56 $ 6.66 Potentially dilutive securities representing 31.1 million and 30.0 million shares of common stock were excluded from the computation of diluted earnings per share for the three- and six-month periods ended March 30, 2019 , respectively, because their effect would have been antidilutive. Note 2 – Revenue Recognition Net sales consist of revenue from the sale of iPhone ® , Mac ® , iPad ® , Services and other products. The Company recognizes revenue at the amount to which it expects to be entitled when control of the products or services is transferred to its customers. Control is generally transferred when the Company has a present right to payment and title and the significant risks and rewards of ownership of products or services are transferred to its customers. For most of the Company’s Products net sales, control transfers when products are shipped. For the Company’s Services net sales, control transfers over time as services are delivered. Payment for Products and Services net sales is collected within a short period following transfer of control or commencement of delivery of services, as applicable. The Company records reductions to Products net sales related to future product returns, price protection and other customer incentive programs based on the Company’s expectations and historical experience. For arrangements with multiple performance obligations, which represent promises within an arrangement that are capable of being distinct, the Company allocates revenue to all distinct performance obligations based on their relative stand-alone selling prices (“SSPs”). When available, the Company uses observable prices to determine SSPs. When observable prices are not available, SSPs are established that reflect the Company’s best estimates of what the selling prices of the performance obligations would be if they were sold regularly on a stand-alone basis. The Company’s process for estimating SSPs without observable prices considers multiple factors that may vary depending upon the unique facts and circumstances related to each performance obligation including, where applicable, prices charged by the Company for similar offerings, market trends in the pricing for similar offerings, product-specific business objectives and the estimated cost to provide the performance obligation. The Company has identified up to three performance obligations regularly included in arrangements involving the sale of iPhone, Mac, iPad and certain other products. The first performance obligation, which represents the substantial portion of the allocated sales price, is the hardware and bundled software delivered at the time of sale. The second performance obligation is the right to receive certain product-related bundled services, which include iCloud ® , Siri ® and Maps. The third performance obligation is the right to receive, on a when-and-if-available basis, future unspecified software upgrades relating to the software bundled with each device. The Company allocates revenue and any related discounts to these performance obligations based on their relative SSPs. Because the Company lacks observable prices for the undelivered performance obligations, the allocation of revenue is based on the Company’s estimated SSPs. Revenue allocated to the delivered hardware and bundled software is recognized when control has transferred to the customer, which generally occurs when the product is shipped. Revenue allocated to the product-related bundled services and unspecified software upgrade rights is deferred and recognized on a straight-line basis over the estimated period they are expected to be provided. Cost of sales related to delivered hardware and bundled software, including estimated warranty costs, are recognized at the time of sale. Costs incurred to provide product-related bundled services and unspecified software upgrade rights are recognized as cost of sales as incurred. Apple Inc. | Q2 2020 Form 10-Q | 7 For certain long-term service arrangements, the Company has performance obligations for services it has not yet delivered. For these arrangements, the Company does not have a right to bill for the undelivered services. The Company has determined that any unbilled consideration relates entirely to the value of the undelivered services. Accordingly, the Company has not recognized revenue, and has elected not to disclose amounts, related to these undelivered services. For the sale of third-party products where the Company obtains control of the product before transferring it to the customer, the Company recognizes revenue based on the gross amount billed to customers. The Company considers multiple factors when determining whether it obtains control of third-party products including, but not limited to, evaluating if it can establish the price of the product, retains inventory risk for tangible products or has the responsibility for ensuring acceptability of the product. For third-party applications sold through the App Store ® , Mac App Store, TV App Store and Watch App Store and certain digital content sold through the Company’s other digital content stores, the Company does not obtain control of the product before transferring it to the customer. Therefore, the Company accounts for such sales on a net basis by recognizing in Services net sales only the commission it retains. The Company has elected to record revenue net of taxes collected from customers that are remitted to governmental authorities, with the collected taxes recorded within other current liabilities until remitted to the relevant government authority. Deferred Revenue As of March 28, 2020 and September 28, 2019 , the Company had total deferred revenue of $ 9.4 billion and $ 8.1 billion , respectively. As of March 28, 2020 , the Company expects 63 % of total deferred revenue to be realized in less than a year, 28 % within one-to-two years, 7 % within two-to-three years and 2 % in greater than three years. Disaggregated Revenue Net sales disaggregated by significant products and services for the three- and six-month periods ended March 28, 2020 and March 30, 2019 were as follows (in millions): Three Months Ended Six Months Ended March 28, 2020 March 30, 2019 March 28, 2020 March 30, 2019 iPhone (1) $ 28,962 $ 31,051 $ 84,919 $ 83,033 Mac (1) 5,351 5,513 12,511 12,929 iPad (1) 4,368 4,872 10,345 11,601 Wearables, Home and Accessories (1)(2) 6,284 5,129 16,294 12,437 Services (3) 13,348 11,450 26,063 22,325 Total net sales (4) $ 58,313 $ 58,015 $ 150,132 $ 142,325 (1) Products net sales include amortization of the deferred value of unspecified software upgrade rights, which are bundled in the sales price of the respective product. (2) Wearables, Home and Accessories net sales include sales of AirPods®, Apple TV®, Apple Watch®, Beats® products, HomePod™, iPod touch® and Apple-branded and third-party accessories. (3) Services net sales include sales from the Company’s digital content stores and streaming services, AppleCare®, licensing and other services. Services net sales also include amortization of the deferred value of Maps, Siri, and free iCloud storage and Apple TV + services, which are bundled in the sales price of certain products. (4) Includes $ 1.9 billion of revenue recognized in the three months ended March 28, 2020 that was included in deferred revenue as of December 28, 2019 , $ 1.9 billion of revenue recognized in the three months ended March 30, 2019 that was included in deferred revenue as of December 29, 2018 , $ 3.0 billion of revenue recognized in the six months ended March 28, 2020 that was included in deferred revenue as of September 28, 2019 , and $ 3.8 billion of revenue recognized in the six months ended March 30, 2019 that was included in deferred revenue as of September 29, 2018 . The Company’s proportion of net sales by disaggregated revenue source was generally consistent for each reportable segment in Note 11, “Segment Information and Geographic Data” for the three- and six-month periods ended March 28, 2020 and March 30, 2019 . Apple Inc. | Q2 2020 Form 10-Q | 8 Note 3 – Financial Instruments Cash, Cash Equivalents and Marketable Securities The following tables show the Company’s cash and marketable securities by significant investment category as of March 28, 2020 and September 28, 2019 (in millions): March 28, 2020 Adjusted Cost Unrealized Gains Unrealized Losses Fair Value Cash and Cash Equivalents Current Marketable Securities Non-Current Marketable Securities Cash $ 24,405 $ — $ — $ 24,405 $ 24,405 $ — $ — Level 1 (1) : Money market funds 4,473 — — 4,473 4,473 — — Subtotal 4,473 — — 4,473 4,473 — — Level 2 (2) : U.S. Treasury securities 18,755 405 — 19,160 1,042 6,736 11,382 U.S. agency securities 6,079 12 ( 9 ) 6,082 129 1,478 4,475 Non-U.S. government securities 18,548 97 ( 693 ) 17,952 652 2,348 14,952 Certificates of deposit and time deposits 10,616 — — 10,616 3,661 6,319 636 Commercial paper 15,690 — — 15,690 5,653 10,037 — Corporate debt securities 82,153 207 ( 2,177 ) 80,183 159 25,708 54,316 Municipal securities 974 9 ( 1 ) 982 — 53 929 Mortgage- and asset-backed securities 13,066 278 ( 43 ) 13,301 — 1,198 12,103 Subtotal 165,881 1,008 ( 2,923 ) 163,966 11,296 53,877 98,793 Total (3) $ 194,759 $ 1,008 $ ( 2,923 ) $ 192,844 $ 40,174 $ 53,877 $ 98,793 September 28, 2019 Adjusted Cost Unrealized Gains Unrealized Losses Fair Value Cash and Cash Equivalents Current Marketable Securities Non-Current Marketable Securities Cash $ 12,204 $ — $ — $ 12,204 $ 12,204 $ — $ — Level 1 (1) : Money market funds 15,897 — — 15,897 15,897 — — Subtotal 15,897 — — 15,897 15,897 — — Level 2 (2) : U.S. Treasury securities 30,293 33 ( 62 ) 30,264 6,165 9,817 14,282 U.S. agency securities 9,767 1 ( 3 ) 9,765 6,489 2,249 1,027 Non-U.S. government securities 19,821 337 ( 50 ) 20,108 749 3,168 16,191 Certificates of deposit and time deposits 4,041 — — 4,041 2,024 1,922 95 Commercial paper 12,433 — — 12,433 5,193 7,240 — Corporate debt securities 85,383 756 ( 92 ) 86,047 123 26,127 59,797 Municipal securities 958 8 ( 1 ) 965 — 68 897 Mortgage- and asset-backed securities 14,180 67 ( 73 ) 14,174 — 1,122 13,052 Subtotal 176,876 1,202 ( 281 ) 177,797 20,743 51,713 105,341 Total (3) $ 204,977 $ 1,202 $ ( 281 ) $ 205,898 $ 48,844 $ 51,713 $ 105,341 (1) Level 1 fair value estimates are based on quoted prices in active markets for identical assets or liabilities. (2) Level 2 fair value estimates are based on observable inputs other than quoted prices in active markets for identical assets and liabilities, quoted prices for identical or similar assets or liabilities in inactive markets, or other inputs that are observable or can be corroborated by observable market data for substantially the full term of the assets or liabilities. (3) As of March 28, 2020 and September 28, 2019 , total marketable securities included $ 17.6 billion and $ 18.9 billion , respectively, that was restricted from general use, related to the State Aid Decision (refer to Note 5, “Income Taxes”) and other agreements. Additionally, as of March 28, 2020 , $ 2.6 billion of marketable securities were pledged as collateral under a repurchase agreement (refer to Note 6, “Debt”). Apple Inc. | Q2 2020 Form 10-Q | 9 The Company may sell certain of its marketable debt securities prior to their stated maturities for reasons including, but not limited to, managing liquidity, credit risk, duration and asset allocation. The maturities of the Company’s non-current marketable debt securities generally range from one to five years . The Company typically invests in highly rated securities, with the primary objective of minimizing the potential risk of principal loss. The Company’s investment policy generally requires securities to be investment grade and limits the amount of credit exposure to any one issuer. Fair values were determined for each individual security in the investment portfolio. When evaluating a marketable debt security for other-than-temporary impairment, the Company reviews factors such as the duration and extent to which the fair value of the security is less than its cost, the financial condition of the issuer and any changes thereto, and the Company’s intent to sell, or whether it will more likely than not be required to sell the security before recovery of its amortized cost basis. As of March 28, 2020 , the Company does not consider any of its marketable debt securities to be other-than-temporarily impaired. Non-Marketable Securities The Company holds non-marketable equity securities of certain privately held companies without readily determinable fair values. As of March 28, 2020 and September 28, 2019 , the Company’s non-marketable equity securities had a carrying value of $ 2.8 billion and $ 2.9 billion , respectively. Restricted Cash A reconciliation of the Company’s cash and cash equivalents in the Condensed Consolidated Balance Sheets to cash, cash equivalents and restricted cash in the Condensed Consolidated Statements of Cash Flows as of March 28, 2020 and September 28, 2019 is as follows (in millions): March 28, 2020 September 28, 2019 Cash and cash equivalents $ 40,174 $ 48,844 Restricted cash included in other current assets 1,077 23 Restricted cash included in other non-current assets 1,798 1,357 Cash, cash equivalents and restricted cash $ 43,049 $ 50,224 The Company’s restricted cash primarily consisted of cash to support the Company’s iPhone Upgrade Program and certain partner agreements. Derivative Financial Instruments The Company may use derivatives to partially offset its business exposure to foreign currency and interest rate risk on expected future cash flows, net investments in certain foreign subsidiaries, and certain existing assets and liabilities. However, the Company may choose not to hedge certain exposures for a variety of reasons including, but not limited to, accounting considerations or the prohibitive economic cost of hedging particular exposures. There can be no assurance the hedges will offset more than a portion of the financial impact resulting from movements in foreign currency exchange or interest rates. To protect gross margins from fluctuations in foreign currency exchange rates, certain of the Company’s subsidiaries whose functional currency is the U.S. dollar may hedge a portion of forecasted foreign currency revenue, and subsidiaries whose functional currency is not the U.S. dollar may hedge a portion of forecasted inventory purchases not denominated in the subsidiaries’ functional currencies. The Company may enter into forward contracts, option contracts or other instruments to manage this risk and may designate these instruments as cash flow hedges. The Company generally hedges portions of its forecasted foreign currency exposure associated with revenue and inventory purchases, typically for up to 12 months . To protect the net investment in a foreign operation from fluctuations in foreign currency exchange rates, the Company may enter into foreign currency forward and option contracts to offset a portion of the changes in the carrying amounts of these investments due to fluctuations in foreign currency exchange rates. In addition, the Company may use non-derivative financial instruments, such as its foreign currency–denominated debt, as hedges of its net investments in certain foreign subsidiaries. In both of these cases, the Company designates these instruments as net investment hedges. Apple Inc. | Q2 2020 Form 10-Q | 10 To protect the Company’s foreign currency–denominated term debt or marketable securities from fluctuations in foreign currency exchange rates, the Company may enter into forward contracts, cross-currency swaps or other instruments. These instruments may offset a portion of the foreign currency remeasurement gains or losses, or changes in fair value. The Company may designate these instruments as either cash flow or fair value hedges. As of March 28, 2020 , the Company’s hedged term debt– and marketable securities–related foreign currency transactions are expected to be recognized within 22 years . The Company may also enter into non-designated foreign currency contracts to offset a portion of the foreign currency exchange gains and losses generated by the remeasurement of certain assets and liabilities denominated in non-functional currencies. To protect the Company’s foreign currency–denominated term debt or marketable securities from fluctuations in interest rates, the Company may enter into interest rate swaps, options or other instruments. These instruments may offset a portion of the changes in interest income or expense, or changes in fair value. The Company designates these instruments as either cash flow or fair value hedges. As of March 28, 2020 , the Company’s hedged interest rate transactions are expected to be recognized within eight years . Cash Flow Hedges Cash flow hedge amounts that are included in the assessment of hedge effectiveness are deferred in AOCI until the hedged item is recognized in earnings. Deferred gains and losses associated with cash flow hedges of foreign currency revenue are recognized as a component of net sales in the same period as the related revenue is recognized, and deferred gains and losses related to cash flow hedges of inventory purchases are recognized as a component of cost of sales in the same period as the related costs are recognized. Deferred gains and losses associated with cash flow hedges of interest income or expense are recognized in other income/(expense), net (“OI&E”) in the same period as the related income or expense is recognized. Generally, for options designated as cash flow hedges, the time value is excluded from the assessment of hedge effectiveness and recognized in the financial statement line item to which the hedge relates on a straight-line basis over the life of the hedge. Changes in the fair value of amounts excluded from the assessment of hedge effectiveness are recognized in other comprehensive income/(loss) (“OCI”). Derivative instruments designated as cash flow hedges must be de-designated as hedges when it is probable the forecasted hedged transaction will not occur in the initially identified time period or within a subsequent two-month time period. Deferred gains and losses in AOCI associated with such derivative instruments are reclassified into OI&E in the period of de-designation. Any subsequent changes in fair value of such derivative instruments are reflected in OI&E unless they are re-designated as hedges of other transactions. Net Investment Hedges Net investment hedge amounts that are included in the assessment of hedge effectiveness are recorded in OCI as a part of the cumulative translation adjustment. For foreign exchange forward contracts designated as net investment hedges, the forward carry component is excluded from the assessment of hedge effectiveness and recognized in OCI on a straight-line basis over the life of the hedge. Changes in the fair value of amounts excluded from the assessment of hedge effectiveness are recognized in OCI. Fair Value Hedges Fair value hedge gains and losses related to amounts that are included in the assessment of hedge effectiveness are recognized in earnings along with a corresponding loss or gain related to the change in value of the hedged item in the same line in the Condensed Consolidated Statements of Operations. For foreign exchange forward contracts designated as fair value hedges, the forward carry component is excluded from the assessment of hedge effectiveness and recognized in OI&E on a straight-line basis over the life of the hedge. Changes in the fair value of amounts excluded from the assessment of hedge effectiveness are recognized in OCI. Amounts excluded from the effectiveness assessment of fair value hedges and recognized in OI&E were gains of $ 126 million and $ 254 million for the three- and six-month periods ended March 28, 2020 , respectively. Non-Designated Derivatives Derivatives that are not designated as hedging instruments are adjusted to fair value through earnings in the financial statement line item to which the derivative relates. Apple Inc. | Q2 2020 Form 10-Q | 11 The Company records all derivatives in the Condensed Consolidated Balance Sheets at fair value. The Company’s accounting treatment for these derivative instruments is based on its hedge designation. The following tables show the Company’s derivative instruments at gross fair value as of March 28, 2020 and September 28, 2019 (in millions): March 28, 2020 Fair Value of Derivatives Designated as Hedge Instruments Fair Value of Derivatives Not Designated as Hedge Instruments Total Fair Value Derivative assets (1) : Foreign exchange contracts $ 2,803 $ 1,425 $ 4,228 Interest rate contracts $ 1,709 $ — $ 1,709 Derivative liabilities (2) : Foreign exchange contracts $ 2,645 $ 1,518 $ 4,163 Interest rate contracts $ 66 $ — $ 66 September 28, 2019 Fair Value of Derivatives Designated as Hedge Instruments Fair Value of Derivatives Not Designated as Hedge Instruments Total Fair Value Derivative assets (1) : Foreign exchange contracts $ 1,798 $ 323 $ 2,121 Interest rate contracts $ 685 $ — $ 685 Derivative liabilities (2) : Foreign exchange contracts $ 1,341 $ 160 $ 1,501 Interest rate contracts $ 105 $ — $ 105 (1) The fair value of derivative assets is measured using Level 2 fair value inputs and is included in other current assets and other non-current assets in the Condensed Consolidated Balance Sheets. (2) The fair value of derivative liabilities is measured using Level 2 fair value inputs and is included in other current liabilities and other non-current liabilities in the Condensed Consolidated Balance Sheets. The Company classifies cash flows related to derivative financial instruments as operating activities in its Condensed Consolidated Statements of Cash Flows. Apple Inc. | Q2 2020 Form 10-Q | 12 The following table shows the pre-tax gains and losses of the Company’s derivative and non-derivative instruments designated as cash flow and net investment hedges in OCI and the Condensed Consolidated Statements of Operations for the three- and six-month periods ended March 28, 2020 and March 30, 2019 (in millions): Three Months Ended Six Months Ended March 28, 2020 March 30, 2019 March 28, 2020 March 30, 2019 Gains/(Losses) recognized in OCI – included in effectiveness assessment: Cash flow hedges: Foreign exchange contracts $ ( 462 ) $ ( 64 ) $ ( 191 ) $ ( 542 ) Interest rate contracts ( 66 ) — ( 66 ) — Total $ ( 528 ) $ ( 64 ) $ ( 257 ) $ ( 542 ) Net investment hedges: Foreign currency debt $ 11 $ ( 7 ) $ 35 $ ( 23 ) Gains/(Losses) reclassified from AOCI into net income – included in effectiveness assessment: Cash flow hedges: Foreign exchange contracts $ ( 817 ) $ 134 $ ( 326 ) $ 16 Interest rate contracts ( 1 ) ( 2 ) ( 3 ) ( 3 ) Total $ ( 818 ) $ 132 $ ( 329 ) $ 13 Amounts excluded from the effectiveness assessment of the Company’s hedges and recognized in OCI were gains of $ 258 million and $ 169 million for the three- and six-month periods ended March 28, 2020 , respectively. The following tables show information about the Company’s derivative instruments designated as fair value hedges and the related hedged items for the three- and six-month periods ended March 28, 2020 and March 30, 2019 and as of March 28, 2020 (in millions): Three Months Ended Six Months Ended March 28, 2020 March 30, 2019 March 28, 2020 March 30, 2019 Gains/(Losses) on derivative instruments (1) : Foreign exchange contracts $ 436 $ 243 $ 253 $ 645 Interest rate contracts 1,290 465 1,128 1,122 Total $ 1,726 $ 708 $ 1,381 $ 1,767 Gains/(Losses) related to hedged items (1) : Marketable securities $ ( 436 ) $ ( 242 ) $ ( 253 ) $ ( 644 ) Fixed-rate debt ( 1,290 ) ( 465 ) ( 1,128 ) ( 1,122 ) Total $ ( 1,726 ) $ ( 707 ) $ ( 1,381 ) $ ( 1,766 ) Apple Inc. | Q2 2020 Form 10-Q | 13 March 28, 2020 Carrying amounts of hedged assets/(liabilities): Marketable securities (2) $ 15,080 Fixed-rate debt (3) $ ( 27,439 ) Cumulative hedging adjustments included in the carrying amounts of hedged items: Marketable securities carrying amount increases/(decreases) $ ( 877 ) Fixed-rate debt carrying amount (increases)/decreases $ ( 1,708 ) (1) Gains and losses related to fair value hedges are included in OI&E in the Condensed Consolidated Statements of Operations. (2) The carrying amounts of marketable securities that are designated as hedged items in fair value hedges are included in current marketable securities and non-current marketable securities in the Condensed Consolidated Balance Sheet. (3) The carrying amounts of fixed-rate debt instruments that are designated as hedged items in fair value hedges are included in current term debt and non-current term debt in the Condensed Consolidated Balance Sheet. The following table shows the notional amounts of the Company’s outstanding derivative instruments and credit risk amounts associated with outstanding or unsettled derivative instruments as of March 28, 2020 and September 28, 2019 (in millions): March 28, 2020 September 28, 2019 Notional Amount Credit Risk Amount Notional Amount Credit Risk Amount Instruments designated as accounting hedges: Foreign exchange contracts $ 59,198 $ 2,803 $ 61,795 $ 1,798 Interest rate contracts $ 27,350 $ 1,709 $ 31,250 $ 685 Instruments not designated as accounting hedges: Foreign exchange contracts $ 91,165 $ 1,425 $ 76,868 $ 323 The notional amounts for outstanding derivative instruments provide one measure of the transaction volume outstanding and do not represent the amount of the Company’s exposure to credit or market loss. The credit risk amounts represent the Company’s gross exposure to potential accounting loss on derivative instruments that are outstanding or unsettled if all counterparties failed to perform according to the terms of the contract, based on then-current currency or interest rates at each respective date. The Company’s exposure to credit loss and market risk will vary over time as currency and interest rates change. Although the table above reflects the notional and credit risk amounts of the Company’s derivative instruments, it does not reflect the gains or losses associated with the exposures and transactions that the instruments are intended to hedge. The amounts ultimately realized upon settlement of these financial instruments, together with the gains and losses on the underlying exposures, will depend on actual market conditions during the remaining life of the instruments. The Company generally enters into master netting arrangements, which are designed to reduce credit risk by permitting net settlement of transactions with the same counterparty. To further limit credit risk, the Company generally enters into collateral security arrangements that provide for collateral to be received or posted when the net fair value of certain financial instruments fluctuates from contractually established thresholds. The Company presents its derivative assets and derivative liabilities at their gross fair values in its Condensed Consolidated Balance Sheets. As of March 28, 2020 and September 28, 2019 , the net cash collateral received by the Company related to derivative instruments under its collateral security arrangements was $ 2.0 billion and $ 1.6 billion , respectively, which were included in other current liabilities in the Condensed Consolidated Balance Sheets. Under master netting arrangements with the respective counterparties to the Company’s derivative contracts, the Company is allowed to net settle transactions with a single net amount payable by one party to the other. As of March 28, 2020 and September 28, 2019 , the potential effects of these rights of set-off associated with the Company’s derivative contracts, including the effects of collateral, would be a reduction to both derivative assets and derivative liabilities of $ 6.4 billion and $ 2.7 billion , respectively, resulting in net derivative liabilities of $ 279 million and $ 407 million , respectively. Apple Inc. | Q2 2020 Form 10-Q | 14 Accounts Receivable Trade Receivables The Company has considerable trade receivables outstanding with its third-party cellular network carriers, wholesalers, retailers, resellers, small and mid-sized businesses and education, enterprise and government customers. The Company generally does not require collateral from its customers; however, the Company will require collateral or third-party credit support in certain instances to limit credit risk. In addition, when possible, the Company attempts to limit credit risk on trade receivables with credit insurance for certain customers or by requiring third-party financing, loans or leases to support credit exposure. These credit-financing arrangements are directly between the third-party financing company and the end customer. As such, the Company generally does not assume any recourse or credit risk sharing related to any of these arrangements. As of both March 28, 2020 and September 28, 2019 , the Company had no customers that individually represented 10% or more of total trade receivables. The Company’s cellular network carriers accounted for 41 % and 51 % of total trade receivables as of March 28, 2020 and September 28, 2019 , respectively. Vendor Non-Trade Receivables The Company has non-trade receivables from certain of its manufacturing vendors resulting from the sale of components to these vendors who manufacture sub-assemblies or assemble final products for the Company. The Company purchases these components directly from suppliers. As of March 28, 2020 , the Company had two vendors that individually represented 10% or more of total vendor non-trade receivables, which accounted for 53 % and 16 % . As of September 28, 2019 , the Company had two vendors that individually represented 10% or more of total vendor non-trade receivables, which accounted for 59 % and 14 % . Note 4 – Condensed Consolidated Financial Statement Details The following tables show the Company’s condensed consolidated financial statement details as of March 28, 2020 and September 28, 2019 (in millions): Property, Plant and Equipment, Net March 28, 2020 September 28, 2019 Land and buildings $ 17,856 $ 17,085 Machinery, equipment and internal-use software 71,273 69,797 Leasehold improvements 9,614 9,075 Gross property, plant and equipment 98,743 95,957 Accumulated depreciation and amortization ( 62,854 ) ( 58,579 ) Total property, plant and equipment, net $ 35,889 $ 37,378 Other Non-Current Liabilities March 28, 2020 September 28, 2019 Long-term taxes payable $ 28,188 $ 29,545 Other non-current liabilities 28,607 20,958 Total other non-current liabilities $ 56,795 $ 50,503 Apple Inc. | Q2 2020 Form 10-Q | 15 Other Income/(Expense), Net The following table shows the detail of OI&E for the three- and six-month periods ended March 28, 2020 and March 30, 2019 (in millions): Three Months Ended Six Months Ended March 28, 2020 March 30, 2019 March 28, 2020 March 30, 2019 Interest and dividend income $ 1,049 $ 1,358 $ 2,094 $ 2,665 Interest expense ( 757 ) ( 1,010 ) ( 1,542 ) ( 1,900 ) Other income/(expense), net ( 10 ) 30 79 173 Total other income/(expense), net $ 282 $ 378 $ 631 $ 938 Note 5 – Income Taxes Uncertain Tax Positions As of March 28, 2020 , the total amount of gross unrecognized tax benefits was $ 16.7 billion , of which $ 8.9 billion , if recognized, would impact the Company’s effective tax rate. The Company had accrued $ 1.3 billion of gross interest and penalties related to income tax matters as of March 28, 2020 . The Company is subject to taxation and files income tax returns in the U.S. federal jurisdiction and many state and foreign jurisdictions. The U.S. Internal Revenue Service concluded its review of the years 2013 through 2015 in 2018, and all years before 2016 are closed. Tax years after 2014 remain open in certain major foreign jurisdictions and are subject to examination by the taxing authorities. The Company believes that an adequate provision has been made for any adjustments that may result from tax examinations. However, the outcome of tax audits cannot be predicted with certainty. If any issues addressed in the Company’s tax audits are resolved in a manner inconsistent with its expectations, the Company could be required to adjust its provision for income taxes in the period such resolution occurs. Although the timing of resolution and/or closure of audits is not certain, the Company believes it is reasonably possible that its gross unrecognized tax benefits could decrease in the next 12 months by as much as $ 2.3 billion . European Commission State Aid Decision On August 30, 2016, the European Commission announced its decision that Ireland granted state aid to the Company by providing tax opinions in 1991 and 2007 concerning the tax allocation of profits of the Irish branches of two subsidiaries of the Company (the “State Aid Decision”). The State Aid Decision ordered Ireland to calculate and recover additional taxes from the Company for the period June 2003 through December 2014. The recovery amount was calculated to be € 13.1 billion , plus interest of € 1.2 billion . On an annual basis, the Company may request approval from the Irish Minister for Finance to reduce the recovery amount for certain taxes paid to other countries. As of March 28, 2020 , the adjusted recovery amount was € 12.9 billion , excluding interest. Irish legislative changes, effective as of January 2015, eliminated the application of the tax opinions from that date forward. The Company believes the State Aid Decision to be without merit and appealed to the General Court of the Court of Justice of the European Union. Ireland has also appealed the State Aid Decision. The Company believes that any incremental Irish corporate income taxes potentially due related to the State Aid Decision would be creditable against U.S. taxes, subject to any foreign tax credit limitations in the U.S. Tax Cuts and Jobs Act. The adjusted recovery amount plus interest is funded into escrow, where it will remain restricted from general use pending the conclusion of all appeals. Refer to the Cash, Cash Equivalents and Marketable Securities section of Note 3, “Financial Instruments” for more information. Apple Inc. | Q2 2020 Form 10-Q | 16 Note 6 – Debt Commercial Paper and Repurchase Agreement The Company issues unsecured short-term promissory notes (“Commercial Paper”) pursuant to a commercial paper program. The Company uses net proceeds from the commercial paper program for general corporate purposes, including dividends and share repurchases. As of March 28, 2020 and September 28, 2019 , the Company had $ 7.5 billion and $ 6.0 billion of Commercial Paper outstanding, respectively, with maturities generally less than nine months . The weighted-average interest rate of the Company’s Commercial Paper was 1.39 % and 2.24 % as of March 28, 2020 and September 28, 2019 , respectively. The following table provides a summary of cash flows associated with the issuance and maturities of Commercial Paper for the six months ended March 28, 2020 and March 30, 2019 (in millions): Six Months Ended March 28, 2020 March 30, 2019 Maturities 90 days or less: Proceeds from/(Repayments of) commercial paper, net $ 1,377 $ ( 2,484 ) Maturities greater than 90 days: Proceeds from commercial paper 4,797 10,235 Repayments of commercial paper ( 4,656 ) ( 7,787 ) Proceeds from commercial paper, net 141 2,448 Total proceeds from/(repayments of) commercial paper, net $ 1,518 $ ( 36 ) In the second quarter of 2020, the Company entered into an agreement to sell certain of its marketable securities with a promise to repurchase the securities at a specified time and amount (“Repo”). Due to the Company’s continuing involvement with the marketable securities, the Company accounts for the Repo as a collateralized borrowing. As of March 28, 2020 , the Company had a $ 2.6 billion Repo liability with a maturity of less than six months , and had pledged $ 2.6 billion of marketable securities as collateral. Term Debt As of March 28, 2020 , the Company had outstanding floating- and fixed-rate notes with varying maturities for an aggregate principal amount of $ 98.0 billion (collectively the “Notes”). The Notes are senior unsecured obligations and interest is payable in arrears. The following table provides a summary of the Company’s term debt as of March 28, 2020 and September 28, 2019 : Maturities (calendar year) March 28, 2020 September 28, 2019 Amount (in millions) Effective Interest Rate Amount (in millions) Effective Interest Rate 2013 – 2019 debt issuances: Floating-rate notes 2020 – 2022 $ 3,250 1.80 % – 2.81 % $ 4,250 2.25 % – 3.28 % Fixed-rate 0.350% – 4.650% notes 2020 – 2049 92,554 0.28 % – 4.78 % 97,429 0.28 % – 4.78 % First quarter 2020 debt issuance of €2.0 billion: Fixed-rate 0.000% – 0.500% notes 2025 – 2031 2,164 0.03 % – 0.56 % — — % Total term debt 97,968 101,679 Unamortized premium/(discount) and issuance costs, net ( 220 ) ( 224 ) Hedge accounting fair value adjustments 1,730 612 Less: Current portion of term debt ( 10,392 ) ( 10,260 ) Total non-current portion of term debt $ 89,086 $ 91,807 To manage interest rate risk on certain of its U.S. dollar–denominated fixed- or floating-rate notes, the Company has entered into interest rate swaps to effectively convert the fixed interest rates to floating interest rates or the floating interest rates to fixed interest rates on a portion of these notes. Additionally, to manage foreign currency risk on certain of its foreign currency–denominated notes, the Company has entered into foreign currency swaps to effectively convert these notes to U.S. dollar–denominated notes. Apple Inc. | Q2 2020 Form 10-Q | 17 A portion of the Company’s Japanese yen–denominated notes is designated as a hedge of the foreign currency exposure of the Company’s net investment in a foreign operation. As of March 28, 2020 and September 28, 2019 , the carrying value of the debt designated as a net investment hedge was $ 663 million and $ 1.0 billion , respectively. For further discussion regarding the Company’s use of derivative instruments, refer to the Derivative Financial Instruments section of Note 3, “Financial Instruments.” The effective interest rates for the Notes include the interest on the Notes, amortization of the discount or premium and, if applicable, adjustments related to hedging. The Company recognized $ 725 million and $ 1.5 billion of interest cost on its term debt for the three- and six-month periods ended March 28, 2020 , respectively. The Company recognized $ 828 million and $ 1.6 billion of interest cost on its term debt for the three- and six-month periods ended March 30, 2019 , respectively. As of March 28, 2020 and September 28, 2019 , the fair value of the Company’s Notes, based on Level 2 inputs, was $ 105.6 billion and $ 107.5 billion , respectively. Note 7 – Shareholders’ Equity As of March 28, 2020 , the Company was authorized to purchase up to $ 175 billion of the Company’s common stock under a share repurchase program, of which $ 134.6 billion had been utilized. During the six months ended March 28, 2020 , the Company repurchased 135.0 million shares of its common stock for $ 38.5 billion , including 30.4 million shares initially delivered under a $ 10.0 billion accelerated share repurchase arrangement (“ASR”) dated November 2019. On April 30, 2020 , the Company announced the Board of Directors increased the share repurchase program authorization by $ 50 billion . The Company’s share repurchase program does not obligate it to acquire any specific number of shares. Under this program, shares may be repurchased in privately negotiated and/or open market transactions, including under plans complying with Rule 10b5-1 under the Securities Exchange Act of 1934, as amended (the “Exchange Act”). Under the Company’s ASR, financial institutions deliver shares of the Company’s common stock during the purchase period in exchange for an up-front payment. The total number of shares ultimately delivered under the ASR, and therefore the average repurchase price paid per share, is determined based on the volume-weighted average price of the Company’s common stock during the purchase period, which will end in May 2020. The shares received are retired in the periods they are delivered, and the up-front payment is accounted for as a reduction to retained earnings in the Company’s Condensed Consolidated Statement of Shareholders’ Equity in the period the payment is made. Note 8 – Comprehensive Income The Company’s OCI consists of foreign currency translation adjustments from those subsidiaries not using the U.S. dollar as their functional currency, net deferred gains and losses on certain derivative instruments accounted for as hedges, and unrealized gains and losses on marketable debt securities classified as available-for-sale. The following table shows the pre-tax amounts reclassified from AOCI into the Condensed Consolidated Statements of Operations, and the associated financial statement line items, for the three- and six-month periods ended March 28, 2020 and March 30, 2019 (in millions): Three Months Ended Six Months Ended Comprehensive Income Components Financial Statement Line Items March 28, 2020 March 30, 2019 March 28, 2020 March 30, 2019 Unrealized (gains)/losses on derivative instruments: Foreign exchange contracts Total net sales $ 34 $ ( 97 ) $ ( 63 ) $ ( 34 ) Total cost of sales 12 ( 76 ) ( 159 ) ( 451 ) Other income/(expense), net 771 52 548 448 Interest rate contracts Other income/(expense), net 1 2 3 3 818 ( 119 ) 329 ( 34 ) Unrealized (gains)/losses on marketable debt securities Other income/(expense), net 37 36 24 83 Total amounts reclassified from AOCI $ 855 $ ( 83 ) $ 353 $ 49 Apple Inc. | Q2 2020 Form 10-Q | 18 The following table shows the changes in AOCI by component for the six months ended March 28, 2020 (in millions): Cumulative Foreign Currency Translation Unrealized Gains/Losses on Derivative Instruments Unrealized Gains/Losses on Marketable Debt Securities Total Balances as of September 28, 2019 $ ( 1,463 ) $ 172 $ 707 $ ( 584 ) Other comprehensive income/(loss) before reclassifications ( 356 ) ( 151 ) ( 2,860 ) ( 3,367 ) Amounts reclassified from AOCI — 329 24 353 Tax effect ( 8 ) 26 655 673 Other comprehensive income/(loss) ( 364 ) 204 ( 2,181 ) ( 2,341 ) Cumulative effect of change in accounting principle (1) — 136 — 136 Balances as of March 28, 2020 $ ( 1,827 ) $ 512 $ ( 1,474 ) $ ( 2,789 ) (1) Refer to Note 1, “Summary of Significant Accounting Policies” for more information on the Company’s adoption of ASU 2017-12 at the beginning of the first quarter of 2020. Note 9 – Benefit Plans Stock Plans The Company had 193.7 million shares reserved for future issuance under its stock plans as of March 28, 2020 . Restricted stock units (“RSUs”) granted under the Company’s stock plans generally vest over four years , based on continued employment, and are settled upon vesting in shares of the Company’s common stock on a one -for-one basis. RSUs granted under the Company’s stock plans reduce the number of shares available for grant under the plans by a factor of two times the number of RSUs granted. RSUs canceled and shares withheld to satisfy tax withholding obligations increase the number of shares available for grant under the plans utilizing a factor of two times the number of RSUs canceled or shares withheld. Rule 10b5-1 Trading Plans During the three months ended March 28, 2020 , Section 16 officers Timothy D. Cook, Chris Kondo, Luca Maestri, Deirdre O’Brien and Jeffrey Williams had equity trading plans in place in accordance with Rule 10b5-1(c)(1) under the Exchange Act. An equity trading plan is a written document that pre-establishes the amounts, prices and dates (or formula for determining the amounts, prices and dates) of future purchases or sales of the Company’s stock, including shares acquired under the Company’s employee and director equity plans. Restricted Stock Units A summary of the Company’s RSU activity and related information for the six months ended March 28, 2020 is as follows: Number of RSUs (in thousands) Weighted-Average Grant Date Fair Value Per RSU Aggregate Fair Value (in millions) Balance as of September 28, 2019 81,517 $ 169.18 RSUs granted 35,639 $ 225.14 RSUs vested ( 19,660 ) $ 151.02 RSUs canceled ( 2,316 ) $ 187.21 Balance as of March 28, 2020 95,180 $ 193.45 $ 23,580 The fair value as of the respective vesting dates of RSUs was $ 558 million and $ 4.8 billion for the three- and six-month periods ended March 28, 2020 , respectively, and was $ 348 million and $ 4.4 billion for the three- and six-month periods ended March 30, 2019 , respectively. Apple Inc. | Q2 2020 Form 10-Q | 19 Share-Based Compensation The following table shows share-based compensation expense and the related income tax benefit included in the Condensed Consolidated Statements of Operations for the three- and six-month periods ended March 28, 2020 and March 30, 2019 (in millions): Three Months Ended Six Months Ended March 28, 2020 March 30, 2019 March 28, 2020 March 30, 2019 Share-based compensation expense $ 1,697 $ 1,514 $ 3,407 $ 3,073 Income tax benefit related to share-based compensation expense $ ( 444 ) $ ( 331 ) $ ( 1,202 ) $ ( 1,081 ) As of March 28, 2020 , the total unrecognized compensation cost related to outstanding RSUs and stock options was $ 14.5 billion , which the Company expects to recognize over a weighted-average period of 2.8 years . Note 10 – Commitments and Contingencies Accrued Warranty and Guarantees The following table shows changes in the Company’s accrued warranties and related costs for the three- and six-month periods ended March 28, 2020 and March 30, 2019 (in millions): Three Months Ended Six Months Ended March 28, 2020 March 30, 2019 March 28, 2020 March 30, 2019 Beginning accrued warranty and related costs $ 3,873 $ 3,819 $ 3,570 $ 3,692 Cost of warranty claims ( 689 ) ( 915 ) ( 1,604 ) ( 1,911 ) Accruals for product warranty 739 583 1,957 1,706 Ending accrued warranty and related costs $ 3,923 $ 3,487 $ 3,923 $ 3,487 The Company offers an iPhone Upgrade Program, which is available to customers who purchase a qualifying iPhone in the U.S., the U.K. and mainland China. The iPhone Upgrade Program provides customers the right to trade in that iPhone for a specified amount when purchasing a new iPhone, provided certain conditions are met. The Company accounts for the trade-in right as a guarantee liability and recognizes arrangement revenue net of the fair value of such right, with subsequent changes to the guarantee liability recognized within net sales. Concentrations in the Available Sources of Supply of Materials and Product Although most components essential to the Company’s business are generally available from multiple sources, certain components are currently obtained from single or limited sources. The Company also competes for various components with other participants in the markets for smartphones, personal computers, tablets and other electronic devices. Therefore, many components used by the Company, including those that are available from multiple sources, are at times subject to industry-wide shortage and significant commodity pricing fluctuations. The Company uses some custom components that are not commonly used by its competitors, and new products introduced by the Company often utilize custom components available from only one source. When a component or product uses new technologies, initial capacity constraints may exist until the suppliers’ yields have matured or their manufacturing capacities have increased. The continued availability of these components at acceptable prices, or at all, may be affected if suppliers decide to concentrate on the production of common components instead of components customized to meet the Company’s requirements. The Company has entered into agreements for the supply of many components; however, there can be no guarantee that the Company will be able to extend or renew these agreements on similar terms, or at all. Substantially all of the Company’s hardware products are manufactured by outsourcing partners that are located primarily in Asia, with some Mac computers manufactured in the U.S. and Ireland. Apple Inc. | Q2 2020 Form 10-Q | 20 Unconditional Purchase Obligations The Company has entered into certain off–balance sheet commitments that require the future purchase of goods or services (“unconditional purchase obligations”). The Company’s unconditional purchase obligations primarily consist of payments for supplier arrangements, Internet and telecommunication services, intellectual property licenses and content creation. As of March 28, 2020 , the Company’s total future payments under noncancelable unconditional purchase obligations having a remaining term in excess of one year were $ 9.9 billion . Contingencies The Company is subject to various legal proceedings and claims that have arisen in the ordinary course of business and that have not been fully resolved. The outcome of litigation is inherently uncertain. If one or more legal matters were resolved against the Company in a reporting period for amounts above management’s expectations, the Company’s financial condition and operating results for that reporting period could be materially adversely affected. In the opinion of management, there was not at least a reasonable possibility the Company may have incurred a material loss, or a material loss greater than a recorded accrual, concerning loss contingencies for asserted legal and other claims, except for the following matters: VirnetX VirnetX, Inc. (“VirnetX”) filed two lawsuits in the U.S. District Court for the Eastern District of Texas (the “Eastern Texas District Court”) against the Company alleging that certain Company products infringe four patents (the “VirnetX Patents”) relating to network communications technology (“VirnetX I” and “VirnetX II”). On September 30, 2016, a jury returned a verdict in VirnetX I against the Company and awarded damages of $ 302 million , which later increased to $ 440 million in post-trial proceedings. The Company appealed the VirnetX I verdict to the U.S. Court of Appeals for the Federal Circuit (the “Federal Circuit”). On April 11, 2018, a jury returned a verdict in VirnetX II against the Company and awarded damages of $ 503 million . The Company appealed the VirnetX II verdict to the Federal Circuit, and on November 22, 2019, the Federal Circuit affirmed-in-part, reversed-in-part, and remanded VirnetX II back to the Eastern Texas District Court. The Company has challenged the validity of the VirnetX Patents at the U.S. Patent and Trademark Office (the “PTO”). In response, the PTO has declared the VirnetX Patents invalid. VirnetX appealed the invalidity decision of the PTO to the Federal Circuit. The Federal Circuit consolidated the Company’s appeal of the Eastern Texas District Court VirnetX I verdict and VirnetX’s appeals from the PTO invalidity proceedings. On January 15, 2019, the Federal Circuit affirmed the VirnetX I verdict, which the Company subsequently paid, including damages and interest. On July 8, 2019, the Federal Circuit remanded one of VirnetX’s two appeals of the PTO’s invalidity decisions back to the PTO for further proceedings. On August 1, 2019, the Federal Circuit affirmed-in-part, vacated-in-part, and remanded back to the PTO portions of VirnetX’s second appeal. iOS Performance Management Cases Various civil litigation matters have been filed in state and federal courts in the U.S. and in various international jurisdictions alleging violation of consumer protection laws, fraud, computer intrusion and other causes of action related to the Company’s performance management feature used in its iPhone operating systems, introduced to certain iPhones in iOS updates 10.2.1 and 11.2. The claims seek monetary damages and other non-monetary relief. On April 5, 2018, several U.S. federal actions were consolidated through a Multidistrict Litigation process into a single action in the U.S. District Court for the Northern District of California (the “Northern California District Court”). On February 28, 2020, the parties in the Multidistrict Litigation reached a settlement to resolve the U.S. federal and California state class actions. Under the terms of the settlement, which is subject to the Northern California District Court’s approval, the Company has agreed to pay up to $ 500 million in the aggregate to certain U.S. owners of iPhones if certain conditions are met. The final amount of the settlement will be determined based on the number of consumers who file valid claims and the attorneys’ fee award. However, the Company has agreed to pay at least $ 310 million to settle the claims. In addition to civil litigation, the Company is also responding to governmental investigations and requests for information relating to the performance management feature. The Company continues to believe that its iPhones were not defective, that the performance management feature introduced with iOS updates 10.2.1 and 11.2 was intended to, and did, improve customers’ user experience, and that the Company did not make any misleading statements or fail to disclose any material information. The Company has accrued its best estimate for the ultimate resolution of these matters. French Competition Authority On March 16, 2020, the French Competition Authority (“FCA”) announced its decision that aspects of the Company’s sales and distribution practices in France violate French competition law, and issued a fine of € 1.1 billion . The Company strongly disagrees with the FCA’s decision, and plans to appeal. Apple Inc. | Q2 2020 Form 10-Q | 21 Note 11 – Segment Information and Geographic Data The Company reports segment information based on the “management” approach. The management approach designates the internal reporting used by management for making decisions and assessing performance as the source of the Company’s reportable segments. The Company manages its business primarily on a geographic basis. The Company’s reportable segments consist of the Americas, Europe, Greater China, Japan and Rest of Asia Pacific. Americas includes both North and South America. Europe includes European countries, as well as India, the Middle East and Africa. Greater China includes China, Hong Kong and Taiwan. Rest of Asia Pacific includes Australia and those Asian countries not included in the Company’s other reportable segments. Although the reportable segments provide similar hardware and software products and similar services, each one is managed separately to better align with the location of the Company’s customers and distribution partners and the unique market dynamics of each geographic region. The accounting policies of the various segments are the same as those described in Note 1, “Summary of Significant Accounting Policies” of the Notes to Consolidated Financial Statements in Part II, Item 8 of the 2019 Form 10-K. The Company evaluates the performance of its reportable segments based on net sales and operating income. Net sales for geographic segments are generally based on the location of customers and sales through the Company’s retail stores located in those geographic locations. Operating income for each segment includes net sales to third parties, related cost of sales and operating expenses directly attributable to the segment. Advertising expenses are generally included in the geographic segment in which the expenditures are incurred. Operating income for each segment excludes other income and expense and certain expenses managed outside the reportable segments. Costs excluded from segment operating income include various corporate expenses such as research and development, corporate marketing expenses, certain share-based compensation expenses, income taxes, various nonrecurring charges and other separately managed general and administrative costs. The Company does not include intercompany transfers between segments for management reporting purposes. The following table shows information by reportable segment for the three- and six-month periods ended March 28, 2020 and March 30, 2019 (in millions): Three Months Ended Six Months Ended March 28, 2020 March 30, 2019 March 28, 2020 March 30, 2019 Americas: Net sales $ 25,473 $ 25,596 $ 66,840 $ 62,536 Operating income $ 7,261 $ 7,687 $ 20,353 $ 18,887 Europe: Net sales $ 14,294 $ 13,054 $ 37,567 $ 33,417 Operating income $ 4,528 $ 4,026 $ 12,247 $ 10,684 Greater China: Net sales $ 9,455 $ 10,218 $ 23,033 $ 23,387 Operating income $ 3,758 $ 3,607 $ 9,121 $ 8,921 Japan: Net sales $ 5,206 $ 5,532 $ 11,429 $ 12,442 Operating income $ 2,236 $ 2,390 $ 5,014 $ 5,404 Rest of Asia Pacific: Net sales $ 3,885 $ 3,615 $ 11,263 $ 10,543 Operating income $ 1,290 $ 1,096 $ 4,021 $ 3,656 Apple Inc. | Q2 2020 Form 10-Q | 22 A reconciliation of the Company’s segment operating income to the Condensed Consolidated Statements of Operations for the three- and six-month periods ended March 28, 2020 and March 30, 2019 is as follows (in millions): Three Months Ended Six Months Ended March 28, 2020 March 30, 2019 March 28, 2020 March 30, 2019 Segment operating income $ 19,073 $ 18,806 $ 50,756 $ 47,552 Research and development expense ( 4,565 ) ( 3,948 ) ( 9,016 ) ( 7,850 ) Other corporate expenses, net ( 1,655 ) ( 1,443 ) ( 3,318 ) ( 2,941 ) Total operating income $ 12,853 $ 13,415 $ 38,422 $ 36,761 Note 12 – Leases The Company has lease arrangements for certain equipment and facilities, including retail, corporate, manufacturing and data center space. These leases typically have original terms not exceeding 10 years and generally contain multi-year renewal options, some of which are reasonably certain of exercise. The Company’s lease arrangements may contain both lease and non-lease components. The Company has elected to combine and account for lease and non-lease components as a single lease component for leases of retail, corporate, and data center facilities. Payments under the Company’s lease arrangements may be fixed or variable, and variable lease payments are primarily based on purchases of output of the underlying leased assets. Lease costs associated with fixed payments on the Company’s operating leases were $ 363 million and $ 732 million for the three- and six-month periods ended March 28, 2020 , respectively. Lease costs associated with variable payments on the Company’s leases were $ 1.9 billion and $ 4.8 billion for the three- and six-month periods ended March 28, 2020 , respectively. For the three- and six-month periods ended March 28, 2020 , the Company made $ 353 million and $ 702 million of fixed cash payments related to operating leases, respectively. Non-cash activities involving ROU assets obtained in exchange for lease liabilities were $ 1.2 billion and $ 9.3 billion for the three- and six-month periods ended March 28, 2020 , respectively, including the impact of adopting the new leases standard in the first quarter of 2020. The following table shows ROU assets and lease liabilities, and the associated financial statement line items, as of March 28, 2020 (in millions): Lease-Related Assets and Liabilities Financial Statement Line Items March 28, 2020 Right-of-use assets: Operating leases Other non-current assets $ 8,097 Finance leases Property, plant and equipment, net 631 Total right-of-use assets $ 8,728 Lease liabilities: Operating leases Other current liabilities $ 1,185 Other non-current liabilities 7,421 Finance leases Other current liabilities 19 Other non-current liabilities 629 Total lease liabilities $ 9,254 Apple Inc. | Q2 2020 Form 10-Q | 23 Lease liability maturities as of March 28, 2020 , are as follows (in millions): Operating Leases Finance Leases Total 2020 (remaining six months) $ 559 $ 14 $ 573 2021 1,428 40 1,468 2022 1,298 38 1,336 2023 1,091 49 1,140 2024 951 26 977 Thereafter 4,269 920 5,189 Total undiscounted liabilities 9,596 1,087 10,683 Less: Imputed interest ( 990 ) ( 439 ) ( 1,429 ) Total lease liabilities $ 8,606 $ 648 $ 9,254 The weighted-average remaining lease term and discount rate related to the Company’s lease liabilities as of March 28, 2020 were 10.7 years and 2.2 % , respectively. The Company’s lease discount rates are generally based on estimates of its incremental borrowing rate, as the discount rates implicit in the Company’s leases cannot be readily determined. As of March 28, 2020 , the Company had $ 1.8 billion of future payments under additional leases, primarily for corporate facilities and retail space, that had not yet commenced. These leases will commence between 2020 and 2022, with lease terms ranging from less than 1 year to 21 years . Apple Inc. | Q2 2020 Form 10-Q | 24 Item 2.'"
      ]
     },
     "execution_count": 13,
     "metadata": {},
     "output_type": "execute_result"
    }
   ],
   "source": [
    "updated_master_dict['0000320193']['10-Q']['a10-qq220203282020.htm']['table_of_contents']['financial statements']"
   ]
  }
 ],
 "metadata": {
  "kernelspec": {
   "display_name": "Python 3",
   "language": "python",
   "name": "python3"
  },
  "language_info": {
   "codemirror_mode": {
    "name": "ipython",
    "version": 3
   },
   "file_extension": ".py",
   "mimetype": "text/x-python",
   "name": "python",
   "nbconvert_exporter": "python",
   "pygments_lexer": "ipython3",
   "version": "3.8.2"
  }
 },
 "nbformat": 4,
 "nbformat_minor": 4
}
