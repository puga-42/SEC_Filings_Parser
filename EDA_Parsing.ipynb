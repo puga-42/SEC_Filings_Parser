{
 "cells": [
  {
   "cell_type": "code",
   "execution_count": 1,
   "metadata": {},
   "outputs": [],
   "source": [
    "import pandas as pd\n",
    "import re\n",
    "import requests\n",
    "import unicodedata\n",
    "from bs4 import BeautifulSoup\n",
    "\n"
   ]
  },
  {
   "cell_type": "code",
   "execution_count": 2,
   "metadata": {},
   "outputs": [],
   "source": [
    "from helpers import *"
   ]
  },
  {
   "cell_type": "markdown",
   "metadata": {},
   "source": [
    "## Version 1:\n",
    "\n",
    "### Extract 10-K text and semgment into sections designated by table of contents for a specific filing document"
   ]
  },
  {
   "cell_type": "code",
   "execution_count": 3,
   "metadata": {},
   "outputs": [],
   "source": [
    "parsed_tenk_text_dict = get_text_dict(r\"https://www.sec.gov/Archives/edgar/data/1318605/000119312511054847/0001193125-11-054847.txt\", '10-K')"
   ]
  },
  {
   "cell_type": "code",
   "execution_count": 5,
   "metadata": {
    "scrolled": true
   },
   "outputs": [
    {
     "data": {
      "text/plain": [
       "dict_keys(['Business', 'Risk Factors', 'Unresolved Staff Comments', 'Properties', 'Legal Proceedings', 'Reserved', 'Market for Registrant\\x92s Common Equity, Related Stockholder Matters and Issuer Purchases of Equity Securities', 'Selected Financial Data', 'Management\\x92s Discussion and Analysis of Financial Condition and Results of Operations', 'Quantitative and Qualitative Disclosures About Market Risk', 'Financial Statements and Supplementary Data', 'Changes in and Disagreements with Accountants on Accounting and Financial Disclosure', 'Controls and Procedures', 'Other Information', 'Directors, Executive Officers and Corporate Governance', 'Executive Compensation', 'Security Ownership of Certain Beneficial Owners and Management and Related Stockholder Matters', 'Certain Relationships and Related Transactions, and Director Independence', 'Principal Accountant Fees and Services', 'Exhibits and Financial Statement Schedules '])"
      ]
     },
     "execution_count": 5,
     "metadata": {},
     "output_type": "execute_result"
    }
   ],
   "source": [
    "parsed_tenk_text_dict.keys()\n",
    "# parsed_tenk_text_dict['Controls and Procedures']"
   ]
  },
  {
   "cell_type": "code",
   "execution_count": 6,
   "metadata": {},
   "outputs": [
    {
     "data": {
      "text/plain": [
       "'Our common stock has traded on The NASDAQ Global Select Market under the symbol TSLA since it began trading on June 29, 2010. Our initial public offering was priced at $17.00 per share on June 28, 2010. The following table sets forth, for the time period indicated, the high and low closing sales price of our common stock as reported on The NASDAQ Global Select Market. 2010 High Low Second Quarter (from June 29, 2010) $ 23.89 $ 23.83 Third Quarter 21.98 15.80 Fourth Quarter 35.47 20.05 As of January 31, 2011, there were 365 holders of record of our common stock. A substantially greater number of holders of our common stock are street name or beneficial holders, whose shares are held by banks, brokers and other financial institutions. Dividend Policy We have never declared or paid cash dividends on our common or convertible preferred stock. We currently do not anticipate paying any cash dividends in the foreseeable future. Any future determination to declare cash dividends will be made at the discretion of our board of directors, subject to applicable laws and compliance with certain covenants under our loan facility with the United States Department of Energy, which restrict or limit our ability to pay dividends, and will depend on our financial condition, results of operations, capital requirements, general business conditions and other factors that our board of directors may deem relevant. 72 Table of Contents Stock Performance Graph This performance graph shall not be deemed filed for purposes of Section 18 of the Securities Exchange Act of 1934, as amended (the Exchange Act), or incorporated by reference into any filing of Tesla Motors, Inc. under the Securities Act of 1933, as amended, or the Exchange Act, except as shall be expressly set forth by specific reference in such filing. The following graph shows a comparison from June 29, 2010 through December 31, 2010, of the cumulative total return for our common stock, the NASDAQ Composite Index, and a group of all public companies sharing the same SIC code as us which is SIC code 3711, Motor Vehicles and Passenger Car Bodies (Motor Vehicles and Passenger Car Bodies Public Company Group). Such returns are based on historical results and are not intended to suggest future performance. Data for The NASDAQ Composite Index and the Motor Vehicles and Passenger Car Bodies Public Company Group assumes an investment of $100 on June 29, 2010 and reinvestment of dividends. We have never declared or paid cash dividends on our capital stock nor do we anticipate paying any such cash dividends in the foreseeable future. Unregistered Sales of Equity Securities On July 2, 2010, we sold 2,941,176 shares of our common stock to Toyota Motor Corporation at a price of $17.00 per share, for aggregate proceeds of $50.0 million. On November 2, 2010, we sold 1,418,573 shares of our common stock to an entity affiliated with Panasonic Corporation at a price of $21.148 per share, for aggregate proceeds of $30.0 million. The shares described above were issued in private transactions pursuant to Section 4(2) of the Securities Act of 1933, as amended. 73 Table of Contents Use of Proceeds Our IPO of common stock was effected through a Registration Statement on Form S-1 (File No. 333-164593) that was declared effective by the Securities and Exchange Commission on June 28, 2010, which registered an aggregate of 15,295,000 shares of our common stock, including 1,995,000 shares that the underwriters had the option to purchase. On July 2, 2010, 11,880,600 shares of common stock were sold on our behalf and 3,414,400 shares of common stock were sold on behalf of the selling stockholders, including 1,995,000 shares sold by the selling stockholders upon exercise in full of the underwriters option to purchase additional shares, at an IPO price of $17.00 per share, for an aggregate gross offering price of $201,970,200 to us, and $58,044,800 to the selling stockholders. The underwriters of the offering were Goldman, Sachs & Co., Morgan Stanley & Co. Incorporated, J.P. Morgan Securities Inc. and Deutsche Bank Securities Inc. Following the sale of the shares in connection with the closing of the IPO, the offering terminated. We paid to the underwriters underwriting discounts and commissions totaling approximately $13.1 million in connection with the offering. In addition, we incurred additional costs of approximately $4.4 million in connection with the offering, which when added to the underwriting discounts and commissions paid by us, amounts to total fees and costs of approximately $17.5 million. Thus, the net offering proceeds to us, after deducting underwriting discounts and commissions and offering costs, were approximately $184.5 million. No offering costs were paid directly or indirectly to any of our directors or officers (or their associates) or persons owning ten percent or more of any class of our equity securities or to any other affiliates, other than reimbursement of legal expenses for selling stockholders. There was no material change in the use of proceeds from our initial public offering as described in our final prospectus filed with the SEC pursuant to Rule 424(b). From the effective date of the registration statement through December 31, 2010, we have used the net proceeds of the offering for working capital purposes, including expenditures for inventory, personnel costs, equipment and other operating expenses. Purchases of Equity Securities by the Issuer and Affiliated Purchasers None. 74 Table of Contents ITEM 6.'"
      ]
     },
     "execution_count": 6,
     "metadata": {},
     "output_type": "execute_result"
    }
   ],
   "source": [
    "parsed_tenk_text_dict['Market for Registrant\\x92s Common Equity, Related Stockholder Matters and Issuer Purchases of Equity Securities']"
   ]
  },
  {
   "cell_type": "code",
   "execution_count": null,
   "metadata": {},
   "outputs": [],
   "source": [
    "testing_eightk = get_text_dict(r'https://www.sec.gov/Archives/edgar/data/1318605/000156459021012981/0001564590-21-012981.txt', '8-K')"
   ]
  },
  {
   "cell_type": "markdown",
   "metadata": {},
   "source": [
    "## We have text organized into these sections:"
   ]
  },
  {
   "cell_type": "code",
   "execution_count": null,
   "metadata": {},
   "outputs": [],
   "source": [
    "for k in parsed_tenk_text_dict.keys():\n",
    "    print(k)"
   ]
  },
  {
   "cell_type": "markdown",
   "metadata": {},
   "source": [
    "## We also want to do the same with 10-Q forms for quarterly reports. \n",
    "### Part of the analysis will be comparing 10-Qs with past 10-Qs"
   ]
  },
  {
   "cell_type": "code",
   "execution_count": null,
   "metadata": {},
   "outputs": [],
   "source": []
  },
  {
   "cell_type": "markdown",
   "metadata": {},
   "source": [
    "## Cosine Similarity\n",
    "\n",
    "Will compare the cosine similarity from previous doc sections to current sections"
   ]
  },
  {
   "cell_type": "code",
   "execution_count": null,
   "metadata": {},
   "outputs": [],
   "source": []
  },
  {
   "cell_type": "code",
   "execution_count": null,
   "metadata": {},
   "outputs": [],
   "source": []
  },
  {
   "cell_type": "markdown",
   "metadata": {},
   "source": [
    "### Testing nlp pipeline"
   ]
  },
  {
   "cell_type": "code",
   "execution_count": null,
   "metadata": {},
   "outputs": [],
   "source": [
    "import unicodedata\n",
    "\n",
    "def remove_accents(input_str):\n",
    "    nfkd_form = unicodedata.normalize('NFKD', input_str)\n",
    "    only_ascii = nfkd_form.encode('ASCII', 'ignore')\n",
    "    return only_ascii.decode()\n",
    "\n",
    "input_string = remove_accents(parsed_tenk_text_dict['CONTROLS AND PROCEDURES '])"
   ]
  },
  {
   "cell_type": "code",
   "execution_count": null,
   "metadata": {},
   "outputs": [],
   "source": [
    "input_string"
   ]
  },
  {
   "cell_type": "markdown",
   "metadata": {},
   "source": [
    "### Tokenizing"
   ]
  },
  {
   "cell_type": "code",
   "execution_count": null,
   "metadata": {},
   "outputs": [],
   "source": [
    "from nltk.tokenize import sent_tokenize\n",
    "\n",
    "sent_tokens = sent_tokenize(input_string)\n",
    "\n",
    "sent_tokens"
   ]
  },
  {
   "cell_type": "markdown",
   "metadata": {},
   "source": [
    "### nltk.tokenize.word_tokenize"
   ]
  },
  {
   "cell_type": "code",
   "execution_count": null,
   "metadata": {},
   "outputs": [],
   "source": [
    "from nltk.tokenize import word_tokenize\n",
    "\n",
    "tokens = [word_tokenize(sent) for sent in sent_tokens]\n",
    "\n",
    "list(enumerate(tokens))"
   ]
  },
  {
   "cell_type": "code",
   "execution_count": null,
   "metadata": {},
   "outputs": [],
   "source": [
    "## make lowercase\n",
    "\n",
    "import string\n",
    "\n",
    "tokens_lower = [[word.lower() for word in sent]\n",
    "                 for sent in tokens]"
   ]
  },
  {
   "cell_type": "markdown",
   "metadata": {},
   "source": [
    "## Filter stopwords and punctuation\n",
    "\n",
    "### will need to go back and create custom stopwords list"
   ]
  },
  {
   "cell_type": "code",
   "execution_count": null,
   "metadata": {},
   "outputs": [],
   "source": [
    "from nltk.corpus import stopwords\n",
    "\n",
    "stopwords_ = set(stopwords.words('english'))\n",
    "punctuation_ = set(string.punctuation)\n",
    "print(\"--- punctuation: {}\".format(string.punctuation))\n",
    "\n",
    "def filter_tokens(sent):\n",
    "    return([w for w in sent if not w in stopwords_ and not w in punctuation_])\n",
    "\n",
    "tokens_filtered = list(map(filter_tokens, tokens_lower))\n",
    "\n",
    "for sent in tokens_filtered:\n",
    "    print(\"--- sentence tokens: {}\".format(sent))"
   ]
  },
  {
   "cell_type": "code",
   "execution_count": null,
   "metadata": {},
   "outputs": [],
   "source": [
    "tokens_filtered"
   ]
  },
  {
   "cell_type": "markdown",
   "metadata": {},
   "source": [
    "## Stemming and lemmatization"
   ]
  },
  {
   "cell_type": "code",
   "execution_count": null,
   "metadata": {},
   "outputs": [],
   "source": [
    "from nltk.stem.porter import PorterStemmer\n",
    "from nltk.stem.snowball import SnowballStemmer\n",
    "from nltk.stem.wordnet import WordNetLemmatizer\n",
    "\n",
    "sentence_number = 0\n",
    "\n",
    "stemmer_porter = PorterStemmer()\n",
    "tokens_stemporter = [list(map(stemmer_porter.stem, sent)) for sent in tokens_filtered]\n",
    "print(\"--- sentence tokens (porter): {}\".format(tokens_stemporter[sentence_number]))\n",
    "\n",
    "stemmer_snowball = SnowballStemmer('english')\n",
    "tokens_stemsnowball = [list(map(stemmer_snowball.stem, sent)) for sent in tokens_filtered]\n",
    "print(\"--- sentence tokens (snowball): {}\".format(tokens_stemsnowball[sentence_number]))\n",
    "\n",
    "lemmatizer = WordNetLemmatizer()\n",
    "tokens_lemmatize = [list(map(lemmatizer.lemmatize, sent)) for sent in tokens_filtered]\n",
    "print(\"--- sentence tokens (lemmatize): {}\".format(tokens_lemmatize[sentence_number]))"
   ]
  },
  {
   "cell_type": "code",
   "execution_count": null,
   "metadata": {},
   "outputs": [],
   "source": []
  }
 ],
 "metadata": {
  "kernelspec": {
   "display_name": "Python 3",
   "language": "python",
   "name": "python3"
  },
  "language_info": {
   "codemirror_mode": {
    "name": "ipython",
    "version": 3
   },
   "file_extension": ".py",
   "mimetype": "text/x-python",
   "name": "python",
   "nbconvert_exporter": "python",
   "pygments_lexer": "ipython3",
   "version": "3.8.2"
  }
 },
 "nbformat": 4,
 "nbformat_minor": 4
}
